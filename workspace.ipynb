{
 "cells": [
  {
   "cell_type": "code",
   "execution_count": 1,
   "metadata": {},
   "outputs": [],
   "source": [
    "import pickle\n",
    "with open('/home/ubuntu/cs224r_project/metrics/20250604_074109_1056.pkl', 'rb') as f:\n",
    "    data = pickle.load(f)"
   ]
  },
  {
   "cell_type": "code",
   "execution_count": 2,
   "metadata": {},
   "outputs": [
    {
     "data": {
      "text/plain": [
       "{'run_name': 'glad-durian-74',\n",
       " 'beta': 0.01,\n",
       " 'step': 1056,\n",
       " 'val_loss': 14.801734924316406,\n",
       " 'examples_seen': 16896,\n",
       " 'valid_fraction': 0.2,\n",
       " 'diversity': 0.9762427609445614,\n",
       " 'affinity': [-8.9, -8.2],\n",
       " 'qed': [0.49485662432595573, 0.36431709042131444],\n",
       " 'sa': [0.6961456725146242, 0.6005262814372528],\n",
       " 'lipinski': [4, 5, 4, 5, 3, 5, 2]}"
      ]
     },
     "execution_count": 2,
     "metadata": {},
     "output_type": "execute_result"
    }
   ],
   "source": [
    "data"
   ]
  },
  {
   "cell_type": "code",
   "execution_count": 12,
   "metadata": {},
   "outputs": [],
   "source": [
    "import pickle\n",
    "with open(\"/home/ubuntu/cs224r_project/metrics/20250604_064517_0.pkl\", 'rb') as f:\n",
    "    data_baseline = pickle.load(f)\n",
    "with open(\"/home/ubuntu/cs224r_project/metrics/20250604_064517_396.pkl\", 'rb') as f:\n",
    "    data_ours = pickle.load(f)"
   ]
  },
  {
   "cell_type": "code",
   "execution_count": 26,
   "metadata": {},
   "outputs": [],
   "source": [
    "with open('generation_ara2a_ours_396.pkl', 'rb') as f:\n",
    "    mols_ours = pickle.load(f)\n",
    "with open('generation_ara2a_ours_0.pkl', 'rb') as f:\n",
    "    mols_baseline = pickle.load(f)"
   ]
  },
  {
   "cell_type": "code",
   "execution_count": 32,
   "metadata": {},
   "outputs": [
    {
     "data": {
      "text/plain": [
       "rdkit.Chem.rdchem.Mol"
      ]
     },
     "execution_count": 32,
     "metadata": {},
     "output_type": "execute_result"
    }
   ],
   "source": [
    "type(mols[3])"
   ]
  },
  {
   "cell_type": "code",
   "execution_count": 41,
   "metadata": {},
   "outputs": [
    {
     "data": {
      "application/3dmoljs_load.v0": "<div id=\"3dmolviewer_17494557604551268\"  style=\"position: relative; width: 200px; height: 200px;\">\n        <p id=\"3dmolwarning_17494557604551268\" style=\"background-color:#ffcccc;color:black\">3Dmol.js failed to load for some reason.  Please check your browser console for error messages.<br></p>\n        </div>\n<script>\n\nvar loadScriptAsync = function(uri){\n  return new Promise((resolve, reject) => {\n    //this is to ignore the existence of requirejs amd\n    var savedexports, savedmodule;\n    if (typeof exports !== 'undefined') savedexports = exports;\n    else exports = {}\n    if (typeof module !== 'undefined') savedmodule = module;\n    else module = {}\n\n    var tag = document.createElement('script');\n    tag.src = uri;\n    tag.async = true;\n    tag.onload = () => {\n        exports = savedexports;\n        module = savedmodule;\n        resolve();\n    };\n  var firstScriptTag = document.getElementsByTagName('script')[0];\n  firstScriptTag.parentNode.insertBefore(tag, firstScriptTag);\n});\n};\n\nif(typeof $3Dmolpromise === 'undefined') {\n$3Dmolpromise = null;\n  $3Dmolpromise = loadScriptAsync('https://cdn.jsdelivr.net/npm/3dmol@2.5.0/build/3Dmol-min.js');\n}\n\nvar viewer_17494557604551268 = null;\nvar warn = document.getElementById(\"3dmolwarning_17494557604551268\");\nif(warn) {\n    warn.parentNode.removeChild(warn);\n}\n$3Dmolpromise.then(function() {\nviewer_17494557604551268 = $3Dmol.createViewer(document.getElementById(\"3dmolviewer_17494557604551268\"),{backgroundColor:\"white\"});\nviewer_17494557604551268.zoomTo();\n\tviewer_17494557604551268.addModel(\"\\n     RDKit          3D\\n\\n 25 26  0  0  0  0  0  0  0  0999 V2000\\n   -1.9131   -3.8491   -1.2939 C   0  0  0  0  0  0  0  0  0  0  0  0\\n   -1.8609   -2.4516   -1.3470 O   0  0  0  0  0  0  0  0  0  0  0  0\\n   -0.8582   -1.6954   -0.7638 C   0  0  0  0  0  0  0  0  0  0  0  0\\n    0.0732   -1.1197   -1.6407 C   0  0  0  0  0  0  0  0  0  0  0  0\\n    1.1113   -0.3438   -1.1972 C   0  0  0  0  0  0  0  0  0  0  0  0\\n    1.2307   -0.1321    0.1490 C   0  0  0  0  0  0  0  0  0  0  0  0\\n    2.2643    0.6442    0.6201 O   0  0  0  0  0  0  0  0  0  0  0  0\\n    2.3037    2.0298    0.3448 C   0  0  0  0  0  0  0  0  0  0  0  0\\n    3.5303    2.6006    1.0168 C   0  0  0  0  0  0  0  0  0  0  0  0\\n    4.6148    1.5271    0.9380 C   0  0  0  0  0  0  0  0  0  0  0  0\\n    4.9741    1.1054    2.3667 C   0  0  0  0  0  0  0  0  0  0  0  0\\n    4.1684   -0.0728    2.7626 C   0  0  0  0  0  0  0  0  0  0  0  0\\n    3.0970    0.0930    3.3571 O   0  0  0  0  0  0  0  0  0  0  0  0\\n    4.6125   -1.3464    2.4686 O   0  0  0  0  0  0  0  0  0  0  0  0\\n    0.3274   -0.6909    1.0049 C   0  0  0  0  0  0  0  0  0  0  0  0\\n   -0.7532   -1.4960    0.5817 C   0  0  0  0  0  0  0  0  0  0  0  0\\n   -1.6445   -2.0928    1.5839 C   0  0  0  0  0  0  0  0  0  0  0  0\\n   -2.7852   -1.2883    2.0257 C   0  0  0  0  0  0  0  0  0  0  0  0\\n   -3.9856   -1.3747    1.2615 C   0  0  0  0  0  0  0  0  0  0  0  0\\n   -5.0666   -0.6655    1.5338 N   0  0  0  0  0  0  0  0  0  0  0  0\\n   -5.1087    0.1820    2.5447 C   0  0  0  0  0  0  0  0  0  0  0  0\\n   -6.3039    0.9401    2.8101 N   0  0  0  0  0  0  0  0  0  0  0  0\\n   -4.0144    0.3077    3.3001 N   0  0  0  0  0  0  0  0  0  0  0  0\\n   -2.8718   -0.4055    3.0583 C   0  0  0  0  0  0  0  0  0  0  0  0\\n   -1.7859   -0.2287    3.9488 N   0  0  0  0  0  0  0  0  0  0  0  0\\n  1  2  1  0\\n  2  3  1  0\\n  3  4  2  0\\n  4  5  1  0\\n  5  6  2  0\\n  6  7  1  0\\n  7  8  1  0\\n  8  9  1  0\\n  9 10  1  0\\n 10 11  1  0\\n 11 12  1  0\\n 12 13  2  0\\n 12 14  1  0\\n  6 15  1  0\\n 15 16  2  0\\n 16 17  1  0\\n 17 18  1  0\\n 18 19  2  0\\n 19 20  1  0\\n 20 21  2  0\\n 21 22  1  0\\n 21 23  1  0\\n 23 24  2  0\\n 24 25  1  0\\n 16  3  1  0\\n 24 18  1  0\\nM  END\\n\",\"mol\");\n\tviewer_17494557604551268.setStyle({\"stick\": {}});\n\tviewer_17494557604551268.setBackgroundColor(\"white\");\n\tviewer_17494557604551268.zoomTo();\nviewer_17494557604551268.render();\n});\n</script>",
      "text/html": [
       "<div id=\"3dmolviewer_17494557604551268\"  style=\"position: relative; width: 200px; height: 200px;\">\n",
       "        <p id=\"3dmolwarning_17494557604551268\" style=\"background-color:#ffcccc;color:black\">3Dmol.js failed to load for some reason.  Please check your browser console for error messages.<br></p>\n",
       "        </div>\n",
       "<script>\n",
       "\n",
       "var loadScriptAsync = function(uri){\n",
       "  return new Promise((resolve, reject) => {\n",
       "    //this is to ignore the existence of requirejs amd\n",
       "    var savedexports, savedmodule;\n",
       "    if (typeof exports !== 'undefined') savedexports = exports;\n",
       "    else exports = {}\n",
       "    if (typeof module !== 'undefined') savedmodule = module;\n",
       "    else module = {}\n",
       "\n",
       "    var tag = document.createElement('script');\n",
       "    tag.src = uri;\n",
       "    tag.async = true;\n",
       "    tag.onload = () => {\n",
       "        exports = savedexports;\n",
       "        module = savedmodule;\n",
       "        resolve();\n",
       "    };\n",
       "  var firstScriptTag = document.getElementsByTagName('script')[0];\n",
       "  firstScriptTag.parentNode.insertBefore(tag, firstScriptTag);\n",
       "});\n",
       "};\n",
       "\n",
       "if(typeof $3Dmolpromise === 'undefined') {\n",
       "$3Dmolpromise = null;\n",
       "  $3Dmolpromise = loadScriptAsync('https://cdn.jsdelivr.net/npm/3dmol@2.5.0/build/3Dmol-min.js');\n",
       "}\n",
       "\n",
       "var viewer_17494557604551268 = null;\n",
       "var warn = document.getElementById(\"3dmolwarning_17494557604551268\");\n",
       "if(warn) {\n",
       "    warn.parentNode.removeChild(warn);\n",
       "}\n",
       "$3Dmolpromise.then(function() {\n",
       "viewer_17494557604551268 = $3Dmol.createViewer(document.getElementById(\"3dmolviewer_17494557604551268\"),{backgroundColor:\"white\"});\n",
       "viewer_17494557604551268.zoomTo();\n",
       "\tviewer_17494557604551268.addModel(\"\\n     RDKit          3D\\n\\n 25 26  0  0  0  0  0  0  0  0999 V2000\\n   -1.9131   -3.8491   -1.2939 C   0  0  0  0  0  0  0  0  0  0  0  0\\n   -1.8609   -2.4516   -1.3470 O   0  0  0  0  0  0  0  0  0  0  0  0\\n   -0.8582   -1.6954   -0.7638 C   0  0  0  0  0  0  0  0  0  0  0  0\\n    0.0732   -1.1197   -1.6407 C   0  0  0  0  0  0  0  0  0  0  0  0\\n    1.1113   -0.3438   -1.1972 C   0  0  0  0  0  0  0  0  0  0  0  0\\n    1.2307   -0.1321    0.1490 C   0  0  0  0  0  0  0  0  0  0  0  0\\n    2.2643    0.6442    0.6201 O   0  0  0  0  0  0  0  0  0  0  0  0\\n    2.3037    2.0298    0.3448 C   0  0  0  0  0  0  0  0  0  0  0  0\\n    3.5303    2.6006    1.0168 C   0  0  0  0  0  0  0  0  0  0  0  0\\n    4.6148    1.5271    0.9380 C   0  0  0  0  0  0  0  0  0  0  0  0\\n    4.9741    1.1054    2.3667 C   0  0  0  0  0  0  0  0  0  0  0  0\\n    4.1684   -0.0728    2.7626 C   0  0  0  0  0  0  0  0  0  0  0  0\\n    3.0970    0.0930    3.3571 O   0  0  0  0  0  0  0  0  0  0  0  0\\n    4.6125   -1.3464    2.4686 O   0  0  0  0  0  0  0  0  0  0  0  0\\n    0.3274   -0.6909    1.0049 C   0  0  0  0  0  0  0  0  0  0  0  0\\n   -0.7532   -1.4960    0.5817 C   0  0  0  0  0  0  0  0  0  0  0  0\\n   -1.6445   -2.0928    1.5839 C   0  0  0  0  0  0  0  0  0  0  0  0\\n   -2.7852   -1.2883    2.0257 C   0  0  0  0  0  0  0  0  0  0  0  0\\n   -3.9856   -1.3747    1.2615 C   0  0  0  0  0  0  0  0  0  0  0  0\\n   -5.0666   -0.6655    1.5338 N   0  0  0  0  0  0  0  0  0  0  0  0\\n   -5.1087    0.1820    2.5447 C   0  0  0  0  0  0  0  0  0  0  0  0\\n   -6.3039    0.9401    2.8101 N   0  0  0  0  0  0  0  0  0  0  0  0\\n   -4.0144    0.3077    3.3001 N   0  0  0  0  0  0  0  0  0  0  0  0\\n   -2.8718   -0.4055    3.0583 C   0  0  0  0  0  0  0  0  0  0  0  0\\n   -1.7859   -0.2287    3.9488 N   0  0  0  0  0  0  0  0  0  0  0  0\\n  1  2  1  0\\n  2  3  1  0\\n  3  4  2  0\\n  4  5  1  0\\n  5  6  2  0\\n  6  7  1  0\\n  7  8  1  0\\n  8  9  1  0\\n  9 10  1  0\\n 10 11  1  0\\n 11 12  1  0\\n 12 13  2  0\\n 12 14  1  0\\n  6 15  1  0\\n 15 16  2  0\\n 16 17  1  0\\n 17 18  1  0\\n 18 19  2  0\\n 19 20  1  0\\n 20 21  2  0\\n 21 22  1  0\\n 21 23  1  0\\n 23 24  2  0\\n 24 25  1  0\\n 16  3  1  0\\n 24 18  1  0\\nM  END\\n\",\"mol\");\n",
       "\tviewer_17494557604551268.setStyle({\"stick\": {}});\n",
       "\tviewer_17494557604551268.setBackgroundColor(\"white\");\n",
       "\tviewer_17494557604551268.zoomTo();\n",
       "viewer_17494557604551268.render();\n",
       "});\n",
       "</script>"
      ]
     },
     "metadata": {},
     "output_type": "display_data"
    },
    {
     "data": {
      "application/3dmoljs_load.v0": "<div id=\"3dmolviewer_17494557604569366\"  style=\"position: relative; width: 200px; height: 200px;\">\n        <p id=\"3dmolwarning_17494557604569366\" style=\"background-color:#ffcccc;color:black\">3Dmol.js failed to load for some reason.  Please check your browser console for error messages.<br></p>\n        </div>\n<script>\n\nvar loadScriptAsync = function(uri){\n  return new Promise((resolve, reject) => {\n    //this is to ignore the existence of requirejs amd\n    var savedexports, savedmodule;\n    if (typeof exports !== 'undefined') savedexports = exports;\n    else exports = {}\n    if (typeof module !== 'undefined') savedmodule = module;\n    else module = {}\n\n    var tag = document.createElement('script');\n    tag.src = uri;\n    tag.async = true;\n    tag.onload = () => {\n        exports = savedexports;\n        module = savedmodule;\n        resolve();\n    };\n  var firstScriptTag = document.getElementsByTagName('script')[0];\n  firstScriptTag.parentNode.insertBefore(tag, firstScriptTag);\n});\n};\n\nif(typeof $3Dmolpromise === 'undefined') {\n$3Dmolpromise = null;\n  $3Dmolpromise = loadScriptAsync('https://cdn.jsdelivr.net/npm/3dmol@2.5.0/build/3Dmol-min.js');\n}\n\nvar viewer_17494557604569366 = null;\nvar warn = document.getElementById(\"3dmolwarning_17494557604569366\");\nif(warn) {\n    warn.parentNode.removeChild(warn);\n}\n$3Dmolpromise.then(function() {\nviewer_17494557604569366 = $3Dmol.createViewer(document.getElementById(\"3dmolviewer_17494557604569366\"),{backgroundColor:\"white\"});\nviewer_17494557604569366.zoomTo();\n\tviewer_17494557604569366.addModel(\"\\n     RDKit          3D\\n\\n 25 27  0  0  0  0  0  0  0  0999 V2000\\n    4.9217   -3.7794    0.1470 C   0  0  0  0  0  0  0  0  0  0  0  0\\n    4.8536   -2.4617   -0.3114 O   0  0  0  0  0  0  0  0  0  0  0  0\\n    3.8502   -1.5705    0.0312 C   0  0  0  0  0  0  0  0  0  0  0  0\\n    2.5123   -1.8886    0.0468 C   0  0  0  0  0  0  0  0  0  0  0  0\\n    1.5334   -0.9804    0.3924 C   0  0  0  0  0  0  0  0  0  0  0  0\\n    1.8720    0.3111    0.7430 C   0  0  0  0  0  0  0  0  0  0  0  0\\n    0.8836    1.2991    1.1122 C   0  0  0  0  0  0  0  0  0  0  0  0\\n   -0.2257    1.6323    0.4502 N   0  0  0  0  0  0  0  0  0  0  0  0\\n   -0.8733    2.5647    1.0883 O   0  0  0  0  0  0  0  0  0  0  0  0\\n   -0.2475    2.9056    2.1966 C   0  0  0  0  0  0  0  0  0  0  0  0\\n   -0.6511    3.9208    3.2023 C   0  0  0  0  0  0  0  0  0  0  0  0\\n   -1.0025    3.2225    4.4551 C   0  0  0  0  0  0  0  0  0  0  0  0\\n   -1.9533    3.5973    5.1579 O   0  0  0  0  0  0  0  0  0  0  0  0\\n   -0.2792    2.1106    4.9020 O   0  0  0  0  0  0  0  0  0  0  0  0\\n    0.8853    2.1172    2.2494 C   0  0  0  0  0  0  0  0  0  0  0  0\\n    1.9476    2.0690    3.2123 C   0  0  0  0  0  0  0  0  0  0  0  0\\n    2.8890    1.0334    3.2499 C   0  0  0  0  0  0  0  0  0  0  0  0\\n    3.8876    1.0156    4.1884 C   0  0  0  0  0  0  0  0  0  0  0  0\\n    4.0114    2.0117    5.1346 C   0  0  0  0  0  0  0  0  0  0  0  0\\n    5.0364    1.9867    6.0924 O   0  0  0  0  0  0  0  0  0  0  0  0\\n    5.6979    0.7922    6.3801 C   0  0  0  0  0  0  0  0  0  0  0  0\\n    3.0873    3.0339    5.1024 C   0  0  0  0  0  0  0  0  0  0  0  0\\n    2.0831    3.0506    4.1577 C   0  0  0  0  0  0  0  0  0  0  0  0\\n    3.2188    0.6288    0.7264 C   0  0  0  0  0  0  0  0  0  0  0  0\\n    4.1986   -0.2773    0.3814 C   0  0  0  0  0  0  0  0  0  0  0  0\\n  1  2  1  0\\n  2  3  1  0\\n  3  4  2  0\\n  4  5  1  0\\n  5  6  2  0\\n  6  7  1  0\\n  7  8  2  0\\n  8  9  1  0\\n  9 10  1  0\\n 10 11  1  0\\n 11 12  1  0\\n 12 13  2  0\\n 12 14  1  0\\n 10 15  2  0\\n 15 16  1  0\\n 16 17  2  0\\n 17 18  1  0\\n 18 19  2  0\\n 19 20  1  0\\n 20 21  1  0\\n 19 22  1  0\\n 22 23  2  0\\n  6 24  1  0\\n 24 25  2  0\\n 25  3  1  0\\n 15  7  1  0\\n 23 16  1  0\\nM  END\\n\",\"mol\");\n\tviewer_17494557604569366.setStyle({\"stick\": {}});\n\tviewer_17494557604569366.setBackgroundColor(\"white\");\n\tviewer_17494557604569366.zoomTo();\nviewer_17494557604569366.render();\n});\n</script>",
      "text/html": [
       "<div id=\"3dmolviewer_17494557604569366\"  style=\"position: relative; width: 200px; height: 200px;\">\n",
       "        <p id=\"3dmolwarning_17494557604569366\" style=\"background-color:#ffcccc;color:black\">3Dmol.js failed to load for some reason.  Please check your browser console for error messages.<br></p>\n",
       "        </div>\n",
       "<script>\n",
       "\n",
       "var loadScriptAsync = function(uri){\n",
       "  return new Promise((resolve, reject) => {\n",
       "    //this is to ignore the existence of requirejs amd\n",
       "    var savedexports, savedmodule;\n",
       "    if (typeof exports !== 'undefined') savedexports = exports;\n",
       "    else exports = {}\n",
       "    if (typeof module !== 'undefined') savedmodule = module;\n",
       "    else module = {}\n",
       "\n",
       "    var tag = document.createElement('script');\n",
       "    tag.src = uri;\n",
       "    tag.async = true;\n",
       "    tag.onload = () => {\n",
       "        exports = savedexports;\n",
       "        module = savedmodule;\n",
       "        resolve();\n",
       "    };\n",
       "  var firstScriptTag = document.getElementsByTagName('script')[0];\n",
       "  firstScriptTag.parentNode.insertBefore(tag, firstScriptTag);\n",
       "});\n",
       "};\n",
       "\n",
       "if(typeof $3Dmolpromise === 'undefined') {\n",
       "$3Dmolpromise = null;\n",
       "  $3Dmolpromise = loadScriptAsync('https://cdn.jsdelivr.net/npm/3dmol@2.5.0/build/3Dmol-min.js');\n",
       "}\n",
       "\n",
       "var viewer_17494557604569366 = null;\n",
       "var warn = document.getElementById(\"3dmolwarning_17494557604569366\");\n",
       "if(warn) {\n",
       "    warn.parentNode.removeChild(warn);\n",
       "}\n",
       "$3Dmolpromise.then(function() {\n",
       "viewer_17494557604569366 = $3Dmol.createViewer(document.getElementById(\"3dmolviewer_17494557604569366\"),{backgroundColor:\"white\"});\n",
       "viewer_17494557604569366.zoomTo();\n",
       "\tviewer_17494557604569366.addModel(\"\\n     RDKit          3D\\n\\n 25 27  0  0  0  0  0  0  0  0999 V2000\\n    4.9217   -3.7794    0.1470 C   0  0  0  0  0  0  0  0  0  0  0  0\\n    4.8536   -2.4617   -0.3114 O   0  0  0  0  0  0  0  0  0  0  0  0\\n    3.8502   -1.5705    0.0312 C   0  0  0  0  0  0  0  0  0  0  0  0\\n    2.5123   -1.8886    0.0468 C   0  0  0  0  0  0  0  0  0  0  0  0\\n    1.5334   -0.9804    0.3924 C   0  0  0  0  0  0  0  0  0  0  0  0\\n    1.8720    0.3111    0.7430 C   0  0  0  0  0  0  0  0  0  0  0  0\\n    0.8836    1.2991    1.1122 C   0  0  0  0  0  0  0  0  0  0  0  0\\n   -0.2257    1.6323    0.4502 N   0  0  0  0  0  0  0  0  0  0  0  0\\n   -0.8733    2.5647    1.0883 O   0  0  0  0  0  0  0  0  0  0  0  0\\n   -0.2475    2.9056    2.1966 C   0  0  0  0  0  0  0  0  0  0  0  0\\n   -0.6511    3.9208    3.2023 C   0  0  0  0  0  0  0  0  0  0  0  0\\n   -1.0025    3.2225    4.4551 C   0  0  0  0  0  0  0  0  0  0  0  0\\n   -1.9533    3.5973    5.1579 O   0  0  0  0  0  0  0  0  0  0  0  0\\n   -0.2792    2.1106    4.9020 O   0  0  0  0  0  0  0  0  0  0  0  0\\n    0.8853    2.1172    2.2494 C   0  0  0  0  0  0  0  0  0  0  0  0\\n    1.9476    2.0690    3.2123 C   0  0  0  0  0  0  0  0  0  0  0  0\\n    2.8890    1.0334    3.2499 C   0  0  0  0  0  0  0  0  0  0  0  0\\n    3.8876    1.0156    4.1884 C   0  0  0  0  0  0  0  0  0  0  0  0\\n    4.0114    2.0117    5.1346 C   0  0  0  0  0  0  0  0  0  0  0  0\\n    5.0364    1.9867    6.0924 O   0  0  0  0  0  0  0  0  0  0  0  0\\n    5.6979    0.7922    6.3801 C   0  0  0  0  0  0  0  0  0  0  0  0\\n    3.0873    3.0339    5.1024 C   0  0  0  0  0  0  0  0  0  0  0  0\\n    2.0831    3.0506    4.1577 C   0  0  0  0  0  0  0  0  0  0  0  0\\n    3.2188    0.6288    0.7264 C   0  0  0  0  0  0  0  0  0  0  0  0\\n    4.1986   -0.2773    0.3814 C   0  0  0  0  0  0  0  0  0  0  0  0\\n  1  2  1  0\\n  2  3  1  0\\n  3  4  2  0\\n  4  5  1  0\\n  5  6  2  0\\n  6  7  1  0\\n  7  8  2  0\\n  8  9  1  0\\n  9 10  1  0\\n 10 11  1  0\\n 11 12  1  0\\n 12 13  2  0\\n 12 14  1  0\\n 10 15  2  0\\n 15 16  1  0\\n 16 17  2  0\\n 17 18  1  0\\n 18 19  2  0\\n 19 20  1  0\\n 20 21  1  0\\n 19 22  1  0\\n 22 23  2  0\\n  6 24  1  0\\n 24 25  2  0\\n 25  3  1  0\\n 15  7  1  0\\n 23 16  1  0\\nM  END\\n\",\"mol\");\n",
       "\tviewer_17494557604569366.setStyle({\"stick\": {}});\n",
       "\tviewer_17494557604569366.setBackgroundColor(\"white\");\n",
       "\tviewer_17494557604569366.zoomTo();\n",
       "viewer_17494557604569366.render();\n",
       "});\n",
       "</script>"
      ]
     },
     "metadata": {},
     "output_type": "display_data"
    },
    {
     "data": {
      "application/3dmoljs_load.v0": "<div id=\"3dmolviewer_17494557604582539\"  style=\"position: relative; width: 200px; height: 200px;\">\n        <p id=\"3dmolwarning_17494557604582539\" style=\"background-color:#ffcccc;color:black\">3Dmol.js failed to load for some reason.  Please check your browser console for error messages.<br></p>\n        </div>\n<script>\n\nvar loadScriptAsync = function(uri){\n  return new Promise((resolve, reject) => {\n    //this is to ignore the existence of requirejs amd\n    var savedexports, savedmodule;\n    if (typeof exports !== 'undefined') savedexports = exports;\n    else exports = {}\n    if (typeof module !== 'undefined') savedmodule = module;\n    else module = {}\n\n    var tag = document.createElement('script');\n    tag.src = uri;\n    tag.async = true;\n    tag.onload = () => {\n        exports = savedexports;\n        module = savedmodule;\n        resolve();\n    };\n  var firstScriptTag = document.getElementsByTagName('script')[0];\n  firstScriptTag.parentNode.insertBefore(tag, firstScriptTag);\n});\n};\n\nif(typeof $3Dmolpromise === 'undefined') {\n$3Dmolpromise = null;\n  $3Dmolpromise = loadScriptAsync('https://cdn.jsdelivr.net/npm/3dmol@2.5.0/build/3Dmol-min.js');\n}\n\nvar viewer_17494557604582539 = null;\nvar warn = document.getElementById(\"3dmolwarning_17494557604582539\");\nif(warn) {\n    warn.parentNode.removeChild(warn);\n}\n$3Dmolpromise.then(function() {\nviewer_17494557604582539 = $3Dmol.createViewer(document.getElementById(\"3dmolviewer_17494557604582539\"),{backgroundColor:\"white\"});\nviewer_17494557604582539.zoomTo();\n\tviewer_17494557604582539.addModel(\"\\n     RDKit          3D\\n\\n 26 29  0  0  0  0  0  0  0  0999 V2000\\n    4.3923    2.6325    1.6705 O   0  0  0  0  0  0  0  0  0  0  0  0\\n    3.2996    2.3136    1.0648 C   0  0  0  0  0  0  0  0  0  0  0  0\\n    2.3806    3.3125    0.9734 O   0  0  0  0  0  0  0  0  0  0  0  0\\n    3.1908    0.9557    0.5670 C   0  0  0  0  0  0  0  0  0  0  0  0\\n    3.4941    0.5007   -0.6261 C   0  0  0  0  0  0  0  0  0  0  0  0\\n    4.0231    1.1167   -1.8493 C   0  0  0  0  0  0  0  0  0  0  0  0\\n    3.1235    1.7870   -2.7638 C   0  0  0  0  0  0  0  0  0  0  0  0\\n    3.5745    3.1361   -3.1615 C   0  0  0  0  0  0  0  0  0  0  0  0\\n    4.5806    3.7418   -2.4623 O   0  0  0  0  0  0  0  0  0  0  0  0\\n    5.5581    4.6150   -2.8112 C   0  0  0  0  0  0  0  0  0  0  0  0\\n    5.5745    5.9645   -2.5811 C   0  0  0  0  0  0  0  0  0  0  0  0\\n    6.6080    6.7739   -2.9711 C   0  0  0  0  0  0  0  0  0  0  0  0\\n    7.6795    6.2274   -3.6205 C   0  0  0  0  0  0  0  0  0  0  0  0\\n    7.7027    4.8548   -3.8752 C   0  0  0  0  0  0  0  0  0  0  0  0\\n    8.7960    4.3065   -4.5362 C   0  0  0  0  0  0  0  0  0  0  0  0\\n    8.8129    2.9526   -4.7843 C   0  0  0  0  0  0  0  0  0  0  0  0\\n    7.7958    2.1316   -4.4048 C   0  0  0  0  0  0  0  0  0  0  0  0\\n    6.7195    2.7073   -3.7477 C   0  0  0  0  0  0  0  0  0  0  0  0\\n    6.6595    4.0674   -3.4763 C   0  0  0  0  0  0  0  0  0  0  0  0\\n    3.1946   -0.9614   -0.6110 C   0  0  0  0  0  0  0  0  0  0  0  0\\n    3.3174   -1.8844   -1.5435 C   0  0  0  0  0  0  0  0  0  0  0  0\\n    2.9433   -3.2881   -1.2674 C   0  0  0  0  0  0  0  0  0  0  0  0\\n    2.4930   -3.5425   -0.0619 C   0  0  0  0  0  0  0  0  0  0  0  0\\n    2.3054   -2.6416    1.0530 C   0  0  0  0  0  0  0  0  0  0  0  0\\n    2.7000   -1.2385    0.7148 C   0  0  0  0  0  0  0  0  0  0  0  0\\n    2.6980   -0.1469    1.3851 N   0  0  0  0  0  0  0  0  0  0  0  0\\n  1  2  2  0\\n  2  3  1  0\\n  2  4  1  0\\n  4  5  2  0\\n  5  6  1  0\\n  6  7  1  0\\n  7  8  1  0\\n  8  9  1  0\\n  9 10  1  0\\n 10 11  2  0\\n 11 12  1  0\\n 12 13  2  0\\n 13 14  1  0\\n 14 15  2  0\\n 15 16  1  0\\n 16 17  2  0\\n 17 18  1  0\\n 18 19  2  0\\n  5 20  1  0\\n 20 21  2  0\\n 21 22  1  0\\n 22 23  2  0\\n 23 24  1  0\\n 24 25  1  0\\n 25 26  2  0\\n 26  4  1  0\\n 19 10  1  0\\n 25 20  1  0\\n 19 14  1  0\\nM  END\\n\",\"mol\");\n\tviewer_17494557604582539.setStyle({\"stick\": {}});\n\tviewer_17494557604582539.setBackgroundColor(\"white\");\n\tviewer_17494557604582539.zoomTo();\nviewer_17494557604582539.render();\n});\n</script>",
      "text/html": [
       "<div id=\"3dmolviewer_17494557604582539\"  style=\"position: relative; width: 200px; height: 200px;\">\n",
       "        <p id=\"3dmolwarning_17494557604582539\" style=\"background-color:#ffcccc;color:black\">3Dmol.js failed to load for some reason.  Please check your browser console for error messages.<br></p>\n",
       "        </div>\n",
       "<script>\n",
       "\n",
       "var loadScriptAsync = function(uri){\n",
       "  return new Promise((resolve, reject) => {\n",
       "    //this is to ignore the existence of requirejs amd\n",
       "    var savedexports, savedmodule;\n",
       "    if (typeof exports !== 'undefined') savedexports = exports;\n",
       "    else exports = {}\n",
       "    if (typeof module !== 'undefined') savedmodule = module;\n",
       "    else module = {}\n",
       "\n",
       "    var tag = document.createElement('script');\n",
       "    tag.src = uri;\n",
       "    tag.async = true;\n",
       "    tag.onload = () => {\n",
       "        exports = savedexports;\n",
       "        module = savedmodule;\n",
       "        resolve();\n",
       "    };\n",
       "  var firstScriptTag = document.getElementsByTagName('script')[0];\n",
       "  firstScriptTag.parentNode.insertBefore(tag, firstScriptTag);\n",
       "});\n",
       "};\n",
       "\n",
       "if(typeof $3Dmolpromise === 'undefined') {\n",
       "$3Dmolpromise = null;\n",
       "  $3Dmolpromise = loadScriptAsync('https://cdn.jsdelivr.net/npm/3dmol@2.5.0/build/3Dmol-min.js');\n",
       "}\n",
       "\n",
       "var viewer_17494557604582539 = null;\n",
       "var warn = document.getElementById(\"3dmolwarning_17494557604582539\");\n",
       "if(warn) {\n",
       "    warn.parentNode.removeChild(warn);\n",
       "}\n",
       "$3Dmolpromise.then(function() {\n",
       "viewer_17494557604582539 = $3Dmol.createViewer(document.getElementById(\"3dmolviewer_17494557604582539\"),{backgroundColor:\"white\"});\n",
       "viewer_17494557604582539.zoomTo();\n",
       "\tviewer_17494557604582539.addModel(\"\\n     RDKit          3D\\n\\n 26 29  0  0  0  0  0  0  0  0999 V2000\\n    4.3923    2.6325    1.6705 O   0  0  0  0  0  0  0  0  0  0  0  0\\n    3.2996    2.3136    1.0648 C   0  0  0  0  0  0  0  0  0  0  0  0\\n    2.3806    3.3125    0.9734 O   0  0  0  0  0  0  0  0  0  0  0  0\\n    3.1908    0.9557    0.5670 C   0  0  0  0  0  0  0  0  0  0  0  0\\n    3.4941    0.5007   -0.6261 C   0  0  0  0  0  0  0  0  0  0  0  0\\n    4.0231    1.1167   -1.8493 C   0  0  0  0  0  0  0  0  0  0  0  0\\n    3.1235    1.7870   -2.7638 C   0  0  0  0  0  0  0  0  0  0  0  0\\n    3.5745    3.1361   -3.1615 C   0  0  0  0  0  0  0  0  0  0  0  0\\n    4.5806    3.7418   -2.4623 O   0  0  0  0  0  0  0  0  0  0  0  0\\n    5.5581    4.6150   -2.8112 C   0  0  0  0  0  0  0  0  0  0  0  0\\n    5.5745    5.9645   -2.5811 C   0  0  0  0  0  0  0  0  0  0  0  0\\n    6.6080    6.7739   -2.9711 C   0  0  0  0  0  0  0  0  0  0  0  0\\n    7.6795    6.2274   -3.6205 C   0  0  0  0  0  0  0  0  0  0  0  0\\n    7.7027    4.8548   -3.8752 C   0  0  0  0  0  0  0  0  0  0  0  0\\n    8.7960    4.3065   -4.5362 C   0  0  0  0  0  0  0  0  0  0  0  0\\n    8.8129    2.9526   -4.7843 C   0  0  0  0  0  0  0  0  0  0  0  0\\n    7.7958    2.1316   -4.4048 C   0  0  0  0  0  0  0  0  0  0  0  0\\n    6.7195    2.7073   -3.7477 C   0  0  0  0  0  0  0  0  0  0  0  0\\n    6.6595    4.0674   -3.4763 C   0  0  0  0  0  0  0  0  0  0  0  0\\n    3.1946   -0.9614   -0.6110 C   0  0  0  0  0  0  0  0  0  0  0  0\\n    3.3174   -1.8844   -1.5435 C   0  0  0  0  0  0  0  0  0  0  0  0\\n    2.9433   -3.2881   -1.2674 C   0  0  0  0  0  0  0  0  0  0  0  0\\n    2.4930   -3.5425   -0.0619 C   0  0  0  0  0  0  0  0  0  0  0  0\\n    2.3054   -2.6416    1.0530 C   0  0  0  0  0  0  0  0  0  0  0  0\\n    2.7000   -1.2385    0.7148 C   0  0  0  0  0  0  0  0  0  0  0  0\\n    2.6980   -0.1469    1.3851 N   0  0  0  0  0  0  0  0  0  0  0  0\\n  1  2  2  0\\n  2  3  1  0\\n  2  4  1  0\\n  4  5  2  0\\n  5  6  1  0\\n  6  7  1  0\\n  7  8  1  0\\n  8  9  1  0\\n  9 10  1  0\\n 10 11  2  0\\n 11 12  1  0\\n 12 13  2  0\\n 13 14  1  0\\n 14 15  2  0\\n 15 16  1  0\\n 16 17  2  0\\n 17 18  1  0\\n 18 19  2  0\\n  5 20  1  0\\n 20 21  2  0\\n 21 22  1  0\\n 22 23  2  0\\n 23 24  1  0\\n 24 25  1  0\\n 25 26  2  0\\n 26  4  1  0\\n 19 10  1  0\\n 25 20  1  0\\n 19 14  1  0\\nM  END\\n\",\"mol\");\n",
       "\tviewer_17494557604582539.setStyle({\"stick\": {}});\n",
       "\tviewer_17494557604582539.setBackgroundColor(\"white\");\n",
       "\tviewer_17494557604582539.zoomTo();\n",
       "viewer_17494557604582539.render();\n",
       "});\n",
       "</script>"
      ]
     },
     "metadata": {},
     "output_type": "display_data"
    },
    {
     "data": {
      "application/3dmoljs_load.v0": "<div id=\"3dmolviewer_1749455760459325\"  style=\"position: relative; width: 200px; height: 200px;\">\n        <p id=\"3dmolwarning_1749455760459325\" style=\"background-color:#ffcccc;color:black\">3Dmol.js failed to load for some reason.  Please check your browser console for error messages.<br></p>\n        </div>\n<script>\n\nvar loadScriptAsync = function(uri){\n  return new Promise((resolve, reject) => {\n    //this is to ignore the existence of requirejs amd\n    var savedexports, savedmodule;\n    if (typeof exports !== 'undefined') savedexports = exports;\n    else exports = {}\n    if (typeof module !== 'undefined') savedmodule = module;\n    else module = {}\n\n    var tag = document.createElement('script');\n    tag.src = uri;\n    tag.async = true;\n    tag.onload = () => {\n        exports = savedexports;\n        module = savedmodule;\n        resolve();\n    };\n  var firstScriptTag = document.getElementsByTagName('script')[0];\n  firstScriptTag.parentNode.insertBefore(tag, firstScriptTag);\n});\n};\n\nif(typeof $3Dmolpromise === 'undefined') {\n$3Dmolpromise = null;\n  $3Dmolpromise = loadScriptAsync('https://cdn.jsdelivr.net/npm/3dmol@2.5.0/build/3Dmol-min.js');\n}\n\nvar viewer_1749455760459325 = null;\nvar warn = document.getElementById(\"3dmolwarning_1749455760459325\");\nif(warn) {\n    warn.parentNode.removeChild(warn);\n}\n$3Dmolpromise.then(function() {\nviewer_1749455760459325 = $3Dmol.createViewer(document.getElementById(\"3dmolviewer_1749455760459325\"),{backgroundColor:\"white\"});\nviewer_1749455760459325.zoomTo();\n\tviewer_1749455760459325.addModel(\"\\n     RDKit          3D\\n\\n 27 29  0  0  0  0  0  0  0  0999 V2000\\n    5.6701    2.5836   -1.4505 C   0  0  0  0  0  0  0  0  0  0  0  0\\n    6.0414    2.0200   -0.2235 O   0  0  0  0  0  0  0  0  0  0  0  0\\n    5.5761    0.7922    0.2444 C   0  0  0  0  0  0  0  0  0  0  0  0\\n    5.9094   -0.3307   -0.5031 C   0  0  0  0  0  0  0  0  0  0  0  0\\n    5.4925   -1.5919   -0.1141 C   0  0  0  0  0  0  0  0  0  0  0  0\\n    4.7451   -1.7409    1.0131 C   0  0  0  0  0  0  0  0  0  0  0  0\\n    4.4168   -0.6246    1.7473 C   0  0  0  0  0  0  0  0  0  0  0  0\\n    3.6558   -0.8127    2.8886 O   0  0  0  0  0  0  0  0  0  0  0  0\\n    4.1689   -1.6235    3.9113 C   0  0  0  0  0  0  0  0  0  0  0  0\\n    5.3320   -1.3436    4.5681 C   0  0  0  0  0  0  0  0  0  0  0  0\\n    5.8123   -2.1850    5.5825 C   0  0  0  0  0  0  0  0  0  0  0  0\\n    5.1192   -3.3184    5.9410 C   0  0  0  0  0  0  0  0  0  0  0  0\\n    5.6560   -4.1297    6.9941 N   0  0  0  0  0  0  0  0  0  0  0  0\\n    6.1598   -3.5112    8.1524 C   0  0  0  0  0  0  0  0  0  0  0  0\\n    6.8284   -4.2461    8.9335 O   0  0  0  0  0  0  0  0  0  0  0  0\\n    5.9204   -2.1095    8.4123 C   0  0  0  0  0  0  0  0  0  0  0  0\\n    6.8685   -1.3846    9.1686 C   0  0  0  0  0  0  0  0  0  0  0  0\\n    6.7605   -0.0453    9.4104 C   0  0  0  0  0  0  0  0  0  0  0  0\\n    5.6797    0.6203    8.8911 C   0  0  0  0  0  0  0  0  0  0  0  0\\n    4.7468   -0.0541    8.1557 C   0  0  0  0  0  0  0  0  0  0  0  0\\n    4.8460   -1.4361    7.9013 C   0  0  0  0  0  0  0  0  0  0  0  0\\n    3.7490   -2.0683    7.1599 C   0  0  0  0  0  0  0  0  0  0  0  0\\n    3.8985   -2.5948    6.0737 O   0  0  0  0  0  0  0  0  0  0  0  0\\n    2.4626   -2.0638    7.7256 O   0  0  0  0  0  0  0  0  0  0  0  0\\n    3.9433   -3.5972    5.2745 C   0  0  0  0  0  0  0  0  0  0  0  0\\n    3.4701   -2.7814    4.2871 C   0  0  0  0  0  0  0  0  0  0  0  0\\n    4.8226    0.6391    1.3772 C   0  0  0  0  0  0  0  0  0  0  0  0\\n  1  2  1  0\\n  2  3  1  0\\n  3  4  2  0\\n  4  5  1  0\\n  5  6  2  0\\n  6  7  1  0\\n  7  8  1  0\\n  8  9  1  0\\n  9 10  2  0\\n 10 11  1  0\\n 11 12  2  0\\n 12 13  1  0\\n 13 14  1  0\\n 14 15  2  0\\n 14 16  1  0\\n 16 17  2  0\\n 17 18  1  0\\n 18 19  2  0\\n 19 20  1  0\\n 20 21  2  0\\n 21 22  1  0\\n 22 23  2  0\\n 22 24  1  0\\n 12 25  1  0\\n 25 26  2  0\\n  7 27  2  0\\n 27  3  1  0\\n 26  9  1  0\\n 21 16  1  0\\nM  END\\n\",\"mol\");\n\tviewer_1749455760459325.setStyle({\"stick\": {}});\n\tviewer_1749455760459325.setBackgroundColor(\"white\");\n\tviewer_1749455760459325.zoomTo();\nviewer_1749455760459325.render();\n});\n</script>",
      "text/html": [
       "<div id=\"3dmolviewer_1749455760459325\"  style=\"position: relative; width: 200px; height: 200px;\">\n",
       "        <p id=\"3dmolwarning_1749455760459325\" style=\"background-color:#ffcccc;color:black\">3Dmol.js failed to load for some reason.  Please check your browser console for error messages.<br></p>\n",
       "        </div>\n",
       "<script>\n",
       "\n",
       "var loadScriptAsync = function(uri){\n",
       "  return new Promise((resolve, reject) => {\n",
       "    //this is to ignore the existence of requirejs amd\n",
       "    var savedexports, savedmodule;\n",
       "    if (typeof exports !== 'undefined') savedexports = exports;\n",
       "    else exports = {}\n",
       "    if (typeof module !== 'undefined') savedmodule = module;\n",
       "    else module = {}\n",
       "\n",
       "    var tag = document.createElement('script');\n",
       "    tag.src = uri;\n",
       "    tag.async = true;\n",
       "    tag.onload = () => {\n",
       "        exports = savedexports;\n",
       "        module = savedmodule;\n",
       "        resolve();\n",
       "    };\n",
       "  var firstScriptTag = document.getElementsByTagName('script')[0];\n",
       "  firstScriptTag.parentNode.insertBefore(tag, firstScriptTag);\n",
       "});\n",
       "};\n",
       "\n",
       "if(typeof $3Dmolpromise === 'undefined') {\n",
       "$3Dmolpromise = null;\n",
       "  $3Dmolpromise = loadScriptAsync('https://cdn.jsdelivr.net/npm/3dmol@2.5.0/build/3Dmol-min.js');\n",
       "}\n",
       "\n",
       "var viewer_1749455760459325 = null;\n",
       "var warn = document.getElementById(\"3dmolwarning_1749455760459325\");\n",
       "if(warn) {\n",
       "    warn.parentNode.removeChild(warn);\n",
       "}\n",
       "$3Dmolpromise.then(function() {\n",
       "viewer_1749455760459325 = $3Dmol.createViewer(document.getElementById(\"3dmolviewer_1749455760459325\"),{backgroundColor:\"white\"});\n",
       "viewer_1749455760459325.zoomTo();\n",
       "\tviewer_1749455760459325.addModel(\"\\n     RDKit          3D\\n\\n 27 29  0  0  0  0  0  0  0  0999 V2000\\n    5.6701    2.5836   -1.4505 C   0  0  0  0  0  0  0  0  0  0  0  0\\n    6.0414    2.0200   -0.2235 O   0  0  0  0  0  0  0  0  0  0  0  0\\n    5.5761    0.7922    0.2444 C   0  0  0  0  0  0  0  0  0  0  0  0\\n    5.9094   -0.3307   -0.5031 C   0  0  0  0  0  0  0  0  0  0  0  0\\n    5.4925   -1.5919   -0.1141 C   0  0  0  0  0  0  0  0  0  0  0  0\\n    4.7451   -1.7409    1.0131 C   0  0  0  0  0  0  0  0  0  0  0  0\\n    4.4168   -0.6246    1.7473 C   0  0  0  0  0  0  0  0  0  0  0  0\\n    3.6558   -0.8127    2.8886 O   0  0  0  0  0  0  0  0  0  0  0  0\\n    4.1689   -1.6235    3.9113 C   0  0  0  0  0  0  0  0  0  0  0  0\\n    5.3320   -1.3436    4.5681 C   0  0  0  0  0  0  0  0  0  0  0  0\\n    5.8123   -2.1850    5.5825 C   0  0  0  0  0  0  0  0  0  0  0  0\\n    5.1192   -3.3184    5.9410 C   0  0  0  0  0  0  0  0  0  0  0  0\\n    5.6560   -4.1297    6.9941 N   0  0  0  0  0  0  0  0  0  0  0  0\\n    6.1598   -3.5112    8.1524 C   0  0  0  0  0  0  0  0  0  0  0  0\\n    6.8284   -4.2461    8.9335 O   0  0  0  0  0  0  0  0  0  0  0  0\\n    5.9204   -2.1095    8.4123 C   0  0  0  0  0  0  0  0  0  0  0  0\\n    6.8685   -1.3846    9.1686 C   0  0  0  0  0  0  0  0  0  0  0  0\\n    6.7605   -0.0453    9.4104 C   0  0  0  0  0  0  0  0  0  0  0  0\\n    5.6797    0.6203    8.8911 C   0  0  0  0  0  0  0  0  0  0  0  0\\n    4.7468   -0.0541    8.1557 C   0  0  0  0  0  0  0  0  0  0  0  0\\n    4.8460   -1.4361    7.9013 C   0  0  0  0  0  0  0  0  0  0  0  0\\n    3.7490   -2.0683    7.1599 C   0  0  0  0  0  0  0  0  0  0  0  0\\n    3.8985   -2.5948    6.0737 O   0  0  0  0  0  0  0  0  0  0  0  0\\n    2.4626   -2.0638    7.7256 O   0  0  0  0  0  0  0  0  0  0  0  0\\n    3.9433   -3.5972    5.2745 C   0  0  0  0  0  0  0  0  0  0  0  0\\n    3.4701   -2.7814    4.2871 C   0  0  0  0  0  0  0  0  0  0  0  0\\n    4.8226    0.6391    1.3772 C   0  0  0  0  0  0  0  0  0  0  0  0\\n  1  2  1  0\\n  2  3  1  0\\n  3  4  2  0\\n  4  5  1  0\\n  5  6  2  0\\n  6  7  1  0\\n  7  8  1  0\\n  8  9  1  0\\n  9 10  2  0\\n 10 11  1  0\\n 11 12  2  0\\n 12 13  1  0\\n 13 14  1  0\\n 14 15  2  0\\n 14 16  1  0\\n 16 17  2  0\\n 17 18  1  0\\n 18 19  2  0\\n 19 20  1  0\\n 20 21  2  0\\n 21 22  1  0\\n 22 23  2  0\\n 22 24  1  0\\n 12 25  1  0\\n 25 26  2  0\\n  7 27  2  0\\n 27  3  1  0\\n 26  9  1  0\\n 21 16  1  0\\nM  END\\n\",\"mol\");\n",
       "\tviewer_1749455760459325.setStyle({\"stick\": {}});\n",
       "\tviewer_1749455760459325.setBackgroundColor(\"white\");\n",
       "\tviewer_1749455760459325.zoomTo();\n",
       "viewer_1749455760459325.render();\n",
       "});\n",
       "</script>"
      ]
     },
     "metadata": {},
     "output_type": "display_data"
    },
    {
     "data": {
      "application/3dmoljs_load.v0": "<div id=\"3dmolviewer_1749455760460494\"  style=\"position: relative; width: 200px; height: 200px;\">\n        <p id=\"3dmolwarning_1749455760460494\" style=\"background-color:#ffcccc;color:black\">3Dmol.js failed to load for some reason.  Please check your browser console for error messages.<br></p>\n        </div>\n<script>\n\nvar loadScriptAsync = function(uri){\n  return new Promise((resolve, reject) => {\n    //this is to ignore the existence of requirejs amd\n    var savedexports, savedmodule;\n    if (typeof exports !== 'undefined') savedexports = exports;\n    else exports = {}\n    if (typeof module !== 'undefined') savedmodule = module;\n    else module = {}\n\n    var tag = document.createElement('script');\n    tag.src = uri;\n    tag.async = true;\n    tag.onload = () => {\n        exports = savedexports;\n        module = savedmodule;\n        resolve();\n    };\n  var firstScriptTag = document.getElementsByTagName('script')[0];\n  firstScriptTag.parentNode.insertBefore(tag, firstScriptTag);\n});\n};\n\nif(typeof $3Dmolpromise === 'undefined') {\n$3Dmolpromise = null;\n  $3Dmolpromise = loadScriptAsync('https://cdn.jsdelivr.net/npm/3dmol@2.5.0/build/3Dmol-min.js');\n}\n\nvar viewer_1749455760460494 = null;\nvar warn = document.getElementById(\"3dmolwarning_1749455760460494\");\nif(warn) {\n    warn.parentNode.removeChild(warn);\n}\n$3Dmolpromise.then(function() {\nviewer_1749455760460494 = $3Dmol.createViewer(document.getElementById(\"3dmolviewer_1749455760460494\"),{backgroundColor:\"white\"});\nviewer_1749455760460494.zoomTo();\n\tviewer_1749455760460494.addModel(\"\\n     RDKit          3D\\n\\n 25 26  0  0  0  0  0  0  0  0999 V2000\\n   -1.9727   -2.0681   -3.7130 C   0  0  0  0  0  0  0  0  0  0  0  0\\n   -2.0352   -1.9441   -2.3063 O   0  0  0  0  0  0  0  0  0  0  0  0\\n   -0.9871   -1.3577   -1.6104 C   0  0  0  0  0  0  0  0  0  0  0  0\\n   -1.2286   -0.6319   -0.4650 C   0  0  0  0  0  0  0  0  0  0  0  0\\n   -0.2165   -0.0419    0.2426 C   0  0  0  0  0  0  0  0  0  0  0  0\\n    1.1321   -0.1380   -0.1524 C   0  0  0  0  0  0  0  0  0  0  0  0\\n    2.0780    0.4330    0.5380 O   0  0  0  0  0  0  0  0  0  0  0  0\\n    3.0199    0.9739    1.1966 C   0  0  0  0  0  0  0  0  0  0  0  0\\n    2.6603    2.0135    2.2362 C   0  0  0  0  0  0  0  0  0  0  0  0\\n    1.1966    2.2944    2.3154 C   0  0  0  0  0  0  0  0  0  0  0  0\\n    0.8401    3.6892    1.8454 C   0  0  0  0  0  0  0  0  0  0  0  0\\n    0.4720    3.6198    0.4078 C   0  0  0  0  0  0  0  0  0  0  0  0\\n    0.1826    4.6770   -0.2453 O   0  0  0  0  0  0  0  0  0  0  0  0\\n    0.4167    2.4414   -0.3099 O   0  0  0  0  0  0  0  0  0  0  0  0\\n    1.3376   -0.8874   -1.3265 C   0  0  0  0  0  0  0  0  0  0  0  0\\n    0.3203   -1.4741   -2.0281 C   0  0  0  0  0  0  0  0  0  0  0  0\\n    0.5883   -2.2519   -3.2550 C   0  0  0  0  0  0  0  0  0  0  0  0\\n    0.6827   -3.7226   -2.9886 C   0  0  0  0  0  0  0  0  0  0  0  0\\n   -0.4295   -4.5306   -3.0092 C   0  0  0  0  0  0  0  0  0  0  0  0\\n   -0.2974   -5.8410   -2.7655 N   0  0  0  0  0  0  0  0  0  0  0  0\\n    0.8776   -6.4361   -2.4953 C   0  0  0  0  0  0  0  0  0  0  0  0\\n    0.9715   -7.8437   -2.2402 N   0  0  0  0  0  0  0  0  0  0  0  0\\n    1.9532   -5.6287   -2.4799 N   0  0  0  0  0  0  0  0  0  0  0  0\\n    1.8985   -4.3087   -2.7142 C   0  0  0  0  0  0  0  0  0  0  0  0\\n    3.0653   -3.4822   -2.6889 N   0  0  0  0  0  0  0  0  0  0  0  0\\n  1  2  1  0\\n  2  3  1  0\\n  3  4  2  0\\n  4  5  1  0\\n  5  6  2  0\\n  6  7  1  0\\n  7  8  1  0\\n  8  9  1  0\\n  9 10  1  0\\n 10 11  1  0\\n 11 12  1  0\\n 12 13  2  0\\n 12 14  1  0\\n  6 15  1  0\\n 15 16  2  0\\n 16 17  1  0\\n 17 18  1  0\\n 18 19  2  0\\n 19 20  1  0\\n 20 21  2  0\\n 21 22  1  0\\n 21 23  1  0\\n 23 24  2  0\\n 24 25  1  0\\n 16  3  1  0\\n 24 18  1  0\\nM  END\\n\",\"mol\");\n\tviewer_1749455760460494.setStyle({\"stick\": {}});\n\tviewer_1749455760460494.setBackgroundColor(\"white\");\n\tviewer_1749455760460494.zoomTo();\nviewer_1749455760460494.render();\n});\n</script>",
      "text/html": [
       "<div id=\"3dmolviewer_1749455760460494\"  style=\"position: relative; width: 200px; height: 200px;\">\n",
       "        <p id=\"3dmolwarning_1749455760460494\" style=\"background-color:#ffcccc;color:black\">3Dmol.js failed to load for some reason.  Please check your browser console for error messages.<br></p>\n",
       "        </div>\n",
       "<script>\n",
       "\n",
       "var loadScriptAsync = function(uri){\n",
       "  return new Promise((resolve, reject) => {\n",
       "    //this is to ignore the existence of requirejs amd\n",
       "    var savedexports, savedmodule;\n",
       "    if (typeof exports !== 'undefined') savedexports = exports;\n",
       "    else exports = {}\n",
       "    if (typeof module !== 'undefined') savedmodule = module;\n",
       "    else module = {}\n",
       "\n",
       "    var tag = document.createElement('script');\n",
       "    tag.src = uri;\n",
       "    tag.async = true;\n",
       "    tag.onload = () => {\n",
       "        exports = savedexports;\n",
       "        module = savedmodule;\n",
       "        resolve();\n",
       "    };\n",
       "  var firstScriptTag = document.getElementsByTagName('script')[0];\n",
       "  firstScriptTag.parentNode.insertBefore(tag, firstScriptTag);\n",
       "});\n",
       "};\n",
       "\n",
       "if(typeof $3Dmolpromise === 'undefined') {\n",
       "$3Dmolpromise = null;\n",
       "  $3Dmolpromise = loadScriptAsync('https://cdn.jsdelivr.net/npm/3dmol@2.5.0/build/3Dmol-min.js');\n",
       "}\n",
       "\n",
       "var viewer_1749455760460494 = null;\n",
       "var warn = document.getElementById(\"3dmolwarning_1749455760460494\");\n",
       "if(warn) {\n",
       "    warn.parentNode.removeChild(warn);\n",
       "}\n",
       "$3Dmolpromise.then(function() {\n",
       "viewer_1749455760460494 = $3Dmol.createViewer(document.getElementById(\"3dmolviewer_1749455760460494\"),{backgroundColor:\"white\"});\n",
       "viewer_1749455760460494.zoomTo();\n",
       "\tviewer_1749455760460494.addModel(\"\\n     RDKit          3D\\n\\n 25 26  0  0  0  0  0  0  0  0999 V2000\\n   -1.9727   -2.0681   -3.7130 C   0  0  0  0  0  0  0  0  0  0  0  0\\n   -2.0352   -1.9441   -2.3063 O   0  0  0  0  0  0  0  0  0  0  0  0\\n   -0.9871   -1.3577   -1.6104 C   0  0  0  0  0  0  0  0  0  0  0  0\\n   -1.2286   -0.6319   -0.4650 C   0  0  0  0  0  0  0  0  0  0  0  0\\n   -0.2165   -0.0419    0.2426 C   0  0  0  0  0  0  0  0  0  0  0  0\\n    1.1321   -0.1380   -0.1524 C   0  0  0  0  0  0  0  0  0  0  0  0\\n    2.0780    0.4330    0.5380 O   0  0  0  0  0  0  0  0  0  0  0  0\\n    3.0199    0.9739    1.1966 C   0  0  0  0  0  0  0  0  0  0  0  0\\n    2.6603    2.0135    2.2362 C   0  0  0  0  0  0  0  0  0  0  0  0\\n    1.1966    2.2944    2.3154 C   0  0  0  0  0  0  0  0  0  0  0  0\\n    0.8401    3.6892    1.8454 C   0  0  0  0  0  0  0  0  0  0  0  0\\n    0.4720    3.6198    0.4078 C   0  0  0  0  0  0  0  0  0  0  0  0\\n    0.1826    4.6770   -0.2453 O   0  0  0  0  0  0  0  0  0  0  0  0\\n    0.4167    2.4414   -0.3099 O   0  0  0  0  0  0  0  0  0  0  0  0\\n    1.3376   -0.8874   -1.3265 C   0  0  0  0  0  0  0  0  0  0  0  0\\n    0.3203   -1.4741   -2.0281 C   0  0  0  0  0  0  0  0  0  0  0  0\\n    0.5883   -2.2519   -3.2550 C   0  0  0  0  0  0  0  0  0  0  0  0\\n    0.6827   -3.7226   -2.9886 C   0  0  0  0  0  0  0  0  0  0  0  0\\n   -0.4295   -4.5306   -3.0092 C   0  0  0  0  0  0  0  0  0  0  0  0\\n   -0.2974   -5.8410   -2.7655 N   0  0  0  0  0  0  0  0  0  0  0  0\\n    0.8776   -6.4361   -2.4953 C   0  0  0  0  0  0  0  0  0  0  0  0\\n    0.9715   -7.8437   -2.2402 N   0  0  0  0  0  0  0  0  0  0  0  0\\n    1.9532   -5.6287   -2.4799 N   0  0  0  0  0  0  0  0  0  0  0  0\\n    1.8985   -4.3087   -2.7142 C   0  0  0  0  0  0  0  0  0  0  0  0\\n    3.0653   -3.4822   -2.6889 N   0  0  0  0  0  0  0  0  0  0  0  0\\n  1  2  1  0\\n  2  3  1  0\\n  3  4  2  0\\n  4  5  1  0\\n  5  6  2  0\\n  6  7  1  0\\n  7  8  1  0\\n  8  9  1  0\\n  9 10  1  0\\n 10 11  1  0\\n 11 12  1  0\\n 12 13  2  0\\n 12 14  1  0\\n  6 15  1  0\\n 15 16  2  0\\n 16 17  1  0\\n 17 18  1  0\\n 18 19  2  0\\n 19 20  1  0\\n 20 21  2  0\\n 21 22  1  0\\n 21 23  1  0\\n 23 24  2  0\\n 24 25  1  0\\n 16  3  1  0\\n 24 18  1  0\\nM  END\\n\",\"mol\");\n",
       "\tviewer_1749455760460494.setStyle({\"stick\": {}});\n",
       "\tviewer_1749455760460494.setBackgroundColor(\"white\");\n",
       "\tviewer_1749455760460494.zoomTo();\n",
       "viewer_1749455760460494.render();\n",
       "});\n",
       "</script>"
      ]
     },
     "metadata": {},
     "output_type": "display_data"
    },
    {
     "data": {
      "application/3dmoljs_load.v0": "<div id=\"3dmolviewer_17494557604618812\"  style=\"position: relative; width: 200px; height: 200px;\">\n        <p id=\"3dmolwarning_17494557604618812\" style=\"background-color:#ffcccc;color:black\">3Dmol.js failed to load for some reason.  Please check your browser console for error messages.<br></p>\n        </div>\n<script>\n\nvar loadScriptAsync = function(uri){\n  return new Promise((resolve, reject) => {\n    //this is to ignore the existence of requirejs amd\n    var savedexports, savedmodule;\n    if (typeof exports !== 'undefined') savedexports = exports;\n    else exports = {}\n    if (typeof module !== 'undefined') savedmodule = module;\n    else module = {}\n\n    var tag = document.createElement('script');\n    tag.src = uri;\n    tag.async = true;\n    tag.onload = () => {\n        exports = savedexports;\n        module = savedmodule;\n        resolve();\n    };\n  var firstScriptTag = document.getElementsByTagName('script')[0];\n  firstScriptTag.parentNode.insertBefore(tag, firstScriptTag);\n});\n};\n\nif(typeof $3Dmolpromise === 'undefined') {\n$3Dmolpromise = null;\n  $3Dmolpromise = loadScriptAsync('https://cdn.jsdelivr.net/npm/3dmol@2.5.0/build/3Dmol-min.js');\n}\n\nvar viewer_17494557604618812 = null;\nvar warn = document.getElementById(\"3dmolwarning_17494557604618812\");\nif(warn) {\n    warn.parentNode.removeChild(warn);\n}\n$3Dmolpromise.then(function() {\nviewer_17494557604618812 = $3Dmol.createViewer(document.getElementById(\"3dmolviewer_17494557604618812\"),{backgroundColor:\"white\"});\nviewer_17494557604618812.zoomTo();\n\tviewer_17494557604618812.addModel(\"\\n     RDKit          3D\\n\\n 26 28  0  0  0  0  0  0  0  0999 V2000\\n    4.5827    1.8118   -3.1562 C   0  0  0  0  0  0  0  0  0  0  0  0\\n    4.7952    1.5140   -1.8015 O   0  0  0  0  0  0  0  0  0  0  0  0\\n    3.8456    0.8735   -1.0166 C   0  0  0  0  0  0  0  0  0  0  0  0\\n    2.5335    1.0701   -1.3113 C   0  0  0  0  0  0  0  0  0  0  0  0\\n    1.5492    0.4741   -0.5842 C   0  0  0  0  0  0  0  0  0  0  0  0\\n    1.9014   -0.3523    0.4816 C   0  0  0  0  0  0  0  0  0  0  0  0\\n    3.2228   -0.5698    0.8033 C   0  0  0  0  0  0  0  0  0  0  0  0\\n    3.5222   -1.4193    1.8966 N   0  0  0  0  0  0  0  0  0  0  0  0\\n    2.5970   -2.2662    2.5192 C   0  0  0  0  0  0  0  0  0  0  0  0\\n    2.1730   -1.9696    3.7966 C   0  0  0  0  0  0  0  0  0  0  0  0\\n    2.6750   -0.7923    4.4989 C   0  0  0  0  0  0  0  0  0  0  0  0\\n    3.9296   -0.2370    4.1343 N   0  0  0  0  0  0  0  0  0  0  0  0\\n    2.0383   -0.2372    5.4270 O   0  0  0  0  0  0  0  0  0  0  0  0\\n    1.2642   -2.8299    4.3670 C   0  0  0  0  0  0  0  0  0  0  0  0\\n    0.7822   -3.9219    3.7485 N   0  0  0  0  0  0  0  0  0  0  0  0\\n    1.1814   -4.2356    2.4960 C   0  0  0  0  0  0  0  0  0  0  0  0\\n    0.6865   -5.3660    1.8475 C   0  0  0  0  0  0  0  0  0  0  0  0\\n    1.1402   -5.6203    0.5718 C   0  0  0  0  0  0  0  0  0  0  0  0\\n    2.0495   -4.8125   -0.0754 C   0  0  0  0  0  0  0  0  0  0  0  0\\n    2.5834   -5.2034   -1.7092 S   0  0  0  0  0  0  0  0  0  0  0  0\\n    2.5833   -6.9828   -1.8284 C   0  0  0  0  0  0  0  0  0  0  0  0\\n    1.5762   -4.6099   -2.6523 O   0  0  0  0  0  0  0  0  0  0  0  0\\n    3.9426   -4.6366   -1.9588 O   0  0  0  0  0  0  0  0  0  0  0  0\\n    2.5178   -3.7044    0.5938 C   0  0  0  0  0  0  0  0  0  0  0  0\\n    2.0931   -3.3946    1.8917 C   0  0  0  0  0  0  0  0  0  0  0  0\\n    4.1794    0.0529    0.0412 C   0  0  0  0  0  0  0  0  0  0  0  0\\n  1  2  1  0\\n  2  3  1  0\\n  3  4  2  0\\n  4  5  1  0\\n  5  6  2  0\\n  6  7  1  0\\n  7  8  1  0\\n  8  9  1  0\\n  9 10  2  0\\n 10 11  1  0\\n 11 12  1  0\\n 11 13  2  0\\n 10 14  1  0\\n 14 15  2  0\\n 15 16  1  0\\n 16 17  2  0\\n 17 18  1  0\\n 18 19  2  0\\n 19 20  1  0\\n 20 21  1  0\\n 20 22  2  0\\n 20 23  2  0\\n 19 24  1  0\\n 24 25  2  0\\n  7 26  2  0\\n 26  3  1  0\\n 25  9  1  0\\n 25 16  1  0\\nM  END\\n\",\"mol\");\n\tviewer_17494557604618812.setStyle({\"stick\": {}});\n\tviewer_17494557604618812.setBackgroundColor(\"white\");\n\tviewer_17494557604618812.zoomTo();\nviewer_17494557604618812.render();\n});\n</script>",
      "text/html": [
       "<div id=\"3dmolviewer_17494557604618812\"  style=\"position: relative; width: 200px; height: 200px;\">\n",
       "        <p id=\"3dmolwarning_17494557604618812\" style=\"background-color:#ffcccc;color:black\">3Dmol.js failed to load for some reason.  Please check your browser console for error messages.<br></p>\n",
       "        </div>\n",
       "<script>\n",
       "\n",
       "var loadScriptAsync = function(uri){\n",
       "  return new Promise((resolve, reject) => {\n",
       "    //this is to ignore the existence of requirejs amd\n",
       "    var savedexports, savedmodule;\n",
       "    if (typeof exports !== 'undefined') savedexports = exports;\n",
       "    else exports = {}\n",
       "    if (typeof module !== 'undefined') savedmodule = module;\n",
       "    else module = {}\n",
       "\n",
       "    var tag = document.createElement('script');\n",
       "    tag.src = uri;\n",
       "    tag.async = true;\n",
       "    tag.onload = () => {\n",
       "        exports = savedexports;\n",
       "        module = savedmodule;\n",
       "        resolve();\n",
       "    };\n",
       "  var firstScriptTag = document.getElementsByTagName('script')[0];\n",
       "  firstScriptTag.parentNode.insertBefore(tag, firstScriptTag);\n",
       "});\n",
       "};\n",
       "\n",
       "if(typeof $3Dmolpromise === 'undefined') {\n",
       "$3Dmolpromise = null;\n",
       "  $3Dmolpromise = loadScriptAsync('https://cdn.jsdelivr.net/npm/3dmol@2.5.0/build/3Dmol-min.js');\n",
       "}\n",
       "\n",
       "var viewer_17494557604618812 = null;\n",
       "var warn = document.getElementById(\"3dmolwarning_17494557604618812\");\n",
       "if(warn) {\n",
       "    warn.parentNode.removeChild(warn);\n",
       "}\n",
       "$3Dmolpromise.then(function() {\n",
       "viewer_17494557604618812 = $3Dmol.createViewer(document.getElementById(\"3dmolviewer_17494557604618812\"),{backgroundColor:\"white\"});\n",
       "viewer_17494557604618812.zoomTo();\n",
       "\tviewer_17494557604618812.addModel(\"\\n     RDKit          3D\\n\\n 26 28  0  0  0  0  0  0  0  0999 V2000\\n    4.5827    1.8118   -3.1562 C   0  0  0  0  0  0  0  0  0  0  0  0\\n    4.7952    1.5140   -1.8015 O   0  0  0  0  0  0  0  0  0  0  0  0\\n    3.8456    0.8735   -1.0166 C   0  0  0  0  0  0  0  0  0  0  0  0\\n    2.5335    1.0701   -1.3113 C   0  0  0  0  0  0  0  0  0  0  0  0\\n    1.5492    0.4741   -0.5842 C   0  0  0  0  0  0  0  0  0  0  0  0\\n    1.9014   -0.3523    0.4816 C   0  0  0  0  0  0  0  0  0  0  0  0\\n    3.2228   -0.5698    0.8033 C   0  0  0  0  0  0  0  0  0  0  0  0\\n    3.5222   -1.4193    1.8966 N   0  0  0  0  0  0  0  0  0  0  0  0\\n    2.5970   -2.2662    2.5192 C   0  0  0  0  0  0  0  0  0  0  0  0\\n    2.1730   -1.9696    3.7966 C   0  0  0  0  0  0  0  0  0  0  0  0\\n    2.6750   -0.7923    4.4989 C   0  0  0  0  0  0  0  0  0  0  0  0\\n    3.9296   -0.2370    4.1343 N   0  0  0  0  0  0  0  0  0  0  0  0\\n    2.0383   -0.2372    5.4270 O   0  0  0  0  0  0  0  0  0  0  0  0\\n    1.2642   -2.8299    4.3670 C   0  0  0  0  0  0  0  0  0  0  0  0\\n    0.7822   -3.9219    3.7485 N   0  0  0  0  0  0  0  0  0  0  0  0\\n    1.1814   -4.2356    2.4960 C   0  0  0  0  0  0  0  0  0  0  0  0\\n    0.6865   -5.3660    1.8475 C   0  0  0  0  0  0  0  0  0  0  0  0\\n    1.1402   -5.6203    0.5718 C   0  0  0  0  0  0  0  0  0  0  0  0\\n    2.0495   -4.8125   -0.0754 C   0  0  0  0  0  0  0  0  0  0  0  0\\n    2.5834   -5.2034   -1.7092 S   0  0  0  0  0  0  0  0  0  0  0  0\\n    2.5833   -6.9828   -1.8284 C   0  0  0  0  0  0  0  0  0  0  0  0\\n    1.5762   -4.6099   -2.6523 O   0  0  0  0  0  0  0  0  0  0  0  0\\n    3.9426   -4.6366   -1.9588 O   0  0  0  0  0  0  0  0  0  0  0  0\\n    2.5178   -3.7044    0.5938 C   0  0  0  0  0  0  0  0  0  0  0  0\\n    2.0931   -3.3946    1.8917 C   0  0  0  0  0  0  0  0  0  0  0  0\\n    4.1794    0.0529    0.0412 C   0  0  0  0  0  0  0  0  0  0  0  0\\n  1  2  1  0\\n  2  3  1  0\\n  3  4  2  0\\n  4  5  1  0\\n  5  6  2  0\\n  6  7  1  0\\n  7  8  1  0\\n  8  9  1  0\\n  9 10  2  0\\n 10 11  1  0\\n 11 12  1  0\\n 11 13  2  0\\n 10 14  1  0\\n 14 15  2  0\\n 15 16  1  0\\n 16 17  2  0\\n 17 18  1  0\\n 18 19  2  0\\n 19 20  1  0\\n 20 21  1  0\\n 20 22  2  0\\n 20 23  2  0\\n 19 24  1  0\\n 24 25  2  0\\n  7 26  2  0\\n 26  3  1  0\\n 25  9  1  0\\n 25 16  1  0\\nM  END\\n\",\"mol\");\n",
       "\tviewer_17494557604618812.setStyle({\"stick\": {}});\n",
       "\tviewer_17494557604618812.setBackgroundColor(\"white\");\n",
       "\tviewer_17494557604618812.zoomTo();\n",
       "viewer_17494557604618812.render();\n",
       "});\n",
       "</script>"
      ]
     },
     "metadata": {},
     "output_type": "display_data"
    }
   ],
   "source": [
    "import py3Dmol\n",
    "from rdkit import Chem\n",
    "for mol in mols:\n",
    "    mol_block = Chem.MolToMolBlock(mol)\n",
    "    width=200\n",
    "    height=200\n",
    "    style=\"stick\"\n",
    "    viewer = py3Dmol.view(width=width, height=height)\n",
    "    viewer.addModel(mol_block, \"mol\")\n",
    "    viewer.setStyle({style: {}})\n",
    "    viewer.setBackgroundColor(\"white\")\n",
    "    viewer.zoomTo()\n",
    "    viewer.show()"
   ]
  },
  {
   "cell_type": "code",
   "execution_count": 14,
   "metadata": {},
   "outputs": [
    {
     "data": {
      "image/png": "[encoded data removed]",
      "text/plain": [
       "<Figure size 432x288 with 1 Axes>"
      ]
     },
     "metadata": {
      "needs_background": "light"
     },
     "output_type": "display_data"
    }
   ],
   "source": [
    "import matplotlib.pyplot as plt\n",
    "\n",
    "colors = ['red', 'green']\n",
    "tick_labels = ['Token-Mol Baseline', 'Ours']\n",
    "plt.title('Affinity')\n",
    "plot = plt.boxplot([data_baseline['affinity'], data_ours['affinity']], patch_artist=True, sym=\"\", labels=tick_labels)\n",
    "for patch, color in zip(plot['boxes'], colors):\n",
    "    patch.set_facecolor(color)\n",
    "# plt.xlabel('Model')\n",
    "plt.ylabel('Vina score')\n",
    "plt.show()"
   ]
  },
  {
   "cell_type": "code",
   "execution_count": 17,
   "metadata": {},
   "outputs": [
    {
     "data": {
      "text/plain": [
       "0.8"
      ]
     },
     "execution_count": 17,
     "metadata": {},
     "output_type": "execute_result"
    }
   ],
   "source": [
    "data_ours['valid_fraction']"
   ]
  },
  {
   "cell_type": "code",
   "execution_count": 15,
   "metadata": {},
   "outputs": [
    {
     "ename": "ValueError",
     "evalue": "Dimensions of labels and X must be compatible",
     "output_type": "error",
     "traceback": [
      "\u001b[0;31m---------------------------------------------------------------------------\u001b[0m",
      "\u001b[0;31mValueError\u001b[0m                                Traceback (most recent call last)",
      "\u001b[0;32m<ipython-input-15-24d9e313a994>\u001b[0m in \u001b[0;36m<cell line: 6>\u001b[0;34m()\u001b[0m\n\u001b[1;32m      4\u001b[0m \u001b[0mtick_labels\u001b[0m \u001b[0;34m=\u001b[0m \u001b[0;34m[\u001b[0m\u001b[0;34m'Ours'\u001b[0m\u001b[0;34m,\u001b[0m \u001b[0;34m'Token-Mol Baseline'\u001b[0m\u001b[0;34m]\u001b[0m\u001b[0;34m\u001b[0m\u001b[0;34m\u001b[0m\u001b[0m\n\u001b[1;32m      5\u001b[0m \u001b[0mplt\u001b[0m\u001b[0;34m.\u001b[0m\u001b[0mtitle\u001b[0m\u001b[0;34m(\u001b[0m\u001b[0;34m'Affinity'\u001b[0m\u001b[0;34m)\u001b[0m\u001b[0;34m\u001b[0m\u001b[0;34m\u001b[0m\u001b[0m\n\u001b[0;32m----> 6\u001b[0;31m \u001b[0mplot\u001b[0m \u001b[0;34m=\u001b[0m \u001b[0mplt\u001b[0m\u001b[0;34m.\u001b[0m\u001b[0mboxplot\u001b[0m\u001b[0;34m(\u001b[0m\u001b[0;34m[\u001b[0m\u001b[0mdata_baseline\u001b[0m\u001b[0;34m[\u001b[0m\u001b[0;34m'valid_fraction'\u001b[0m\u001b[0;34m]\u001b[0m\u001b[0;34m,\u001b[0m \u001b[0mdata_ours\u001b[0m\u001b[0;34m[\u001b[0m\u001b[0;34m'valid_fraction'\u001b[0m\u001b[0;34m]\u001b[0m\u001b[0;34m]\u001b[0m\u001b[0;34m,\u001b[0m \u001b[0mpatch_artist\u001b[0m\u001b[0;34m=\u001b[0m\u001b[0;32mTrue\u001b[0m\u001b[0;34m,\u001b[0m \u001b[0msym\u001b[0m\u001b[0;34m=\u001b[0m\u001b[0;34m\"\"\u001b[0m\u001b[0;34m,\u001b[0m \u001b[0mlabels\u001b[0m\u001b[0;34m=\u001b[0m\u001b[0mtick_labels\u001b[0m\u001b[0;34m)\u001b[0m\u001b[0;34m\u001b[0m\u001b[0;34m\u001b[0m\u001b[0m\n\u001b[0m\u001b[1;32m      7\u001b[0m \u001b[0;32mfor\u001b[0m \u001b[0mpatch\u001b[0m\u001b[0;34m,\u001b[0m \u001b[0mcolor\u001b[0m \u001b[0;32min\u001b[0m \u001b[0mzip\u001b[0m\u001b[0;34m(\u001b[0m\u001b[0mplot\u001b[0m\u001b[0;34m[\u001b[0m\u001b[0;34m'boxes'\u001b[0m\u001b[0;34m]\u001b[0m\u001b[0;34m,\u001b[0m \u001b[0mcolors\u001b[0m\u001b[0;34m)\u001b[0m\u001b[0;34m:\u001b[0m\u001b[0;34m\u001b[0m\u001b[0;34m\u001b[0m\u001b[0m\n\u001b[1;32m      8\u001b[0m     \u001b[0mpatch\u001b[0m\u001b[0;34m.\u001b[0m\u001b[0mset_facecolor\u001b[0m\u001b[0;34m(\u001b[0m\u001b[0mcolor\u001b[0m\u001b[0;34m)\u001b[0m\u001b[0;34m\u001b[0m\u001b[0;34m\u001b[0m\u001b[0m\n",
      "\u001b[0;32m~/miniconda3/envs/cs224r/lib/python3.8/site-packages/matplotlib/pyplot.py\u001b[0m in \u001b[0;36mboxplot\u001b[0;34m(x, notch, sym, vert, whis, positions, widths, patch_artist, bootstrap, usermedians, conf_intervals, meanline, showmeans, showcaps, showbox, showfliers, boxprops, labels, flierprops, medianprops, meanprops, capprops, whiskerprops, manage_ticks, autorange, zorder, capwidths, data)\u001b[0m\n\u001b[1;32m   2481\u001b[0m         \u001b[0mwhiskerprops\u001b[0m\u001b[0;34m=\u001b[0m\u001b[0;32mNone\u001b[0m\u001b[0;34m,\u001b[0m \u001b[0mmanage_ticks\u001b[0m\u001b[0;34m=\u001b[0m\u001b[0;32mTrue\u001b[0m\u001b[0;34m,\u001b[0m \u001b[0mautorange\u001b[0m\u001b[0;34m=\u001b[0m\u001b[0;32mFalse\u001b[0m\u001b[0;34m,\u001b[0m\u001b[0;34m\u001b[0m\u001b[0;34m\u001b[0m\u001b[0m\n\u001b[1;32m   2482\u001b[0m         zorder=None, capwidths=None, *, data=None):\n\u001b[0;32m-> 2483\u001b[0;31m     return gca().boxplot(\n\u001b[0m\u001b[1;32m   2484\u001b[0m         \u001b[0mx\u001b[0m\u001b[0;34m,\u001b[0m \u001b[0mnotch\u001b[0m\u001b[0;34m=\u001b[0m\u001b[0mnotch\u001b[0m\u001b[0;34m,\u001b[0m \u001b[0msym\u001b[0m\u001b[0;34m=\u001b[0m\u001b[0msym\u001b[0m\u001b[0;34m,\u001b[0m \u001b[0mvert\u001b[0m\u001b[0;34m=\u001b[0m\u001b[0mvert\u001b[0m\u001b[0;34m,\u001b[0m \u001b[0mwhis\u001b[0m\u001b[0;34m=\u001b[0m\u001b[0mwhis\u001b[0m\u001b[0;34m,\u001b[0m\u001b[0;34m\u001b[0m\u001b[0;34m\u001b[0m\u001b[0m\n\u001b[1;32m   2485\u001b[0m         \u001b[0mpositions\u001b[0m\u001b[0;34m=\u001b[0m\u001b[0mpositions\u001b[0m\u001b[0;34m,\u001b[0m \u001b[0mwidths\u001b[0m\u001b[0;34m=\u001b[0m\u001b[0mwidths\u001b[0m\u001b[0;34m,\u001b[0m \u001b[0mpatch_artist\u001b[0m\u001b[0;34m=\u001b[0m\u001b[0mpatch_artist\u001b[0m\u001b[0;34m,\u001b[0m\u001b[0;34m\u001b[0m\u001b[0;34m\u001b[0m\u001b[0m\n",
      "\u001b[0;32m~/miniconda3/envs/cs224r/lib/python3.8/site-packages/matplotlib/__init__.py\u001b[0m in \u001b[0;36minner\u001b[0;34m(ax, data, *args, **kwargs)\u001b[0m\n\u001b[1;32m   1444\u001b[0m     \u001b[0;32mdef\u001b[0m \u001b[0minner\u001b[0m\u001b[0;34m(\u001b[0m\u001b[0max\u001b[0m\u001b[0;34m,\u001b[0m \u001b[0;34m*\u001b[0m\u001b[0margs\u001b[0m\u001b[0;34m,\u001b[0m \u001b[0mdata\u001b[0m\u001b[0;34m=\u001b[0m\u001b[0;32mNone\u001b[0m\u001b[0;34m,\u001b[0m \u001b[0;34m**\u001b[0m\u001b[0mkwargs\u001b[0m\u001b[0;34m)\u001b[0m\u001b[0;34m:\u001b[0m\u001b[0;34m\u001b[0m\u001b[0;34m\u001b[0m\u001b[0m\n\u001b[1;32m   1445\u001b[0m         \u001b[0;32mif\u001b[0m \u001b[0mdata\u001b[0m \u001b[0;32mis\u001b[0m \u001b[0;32mNone\u001b[0m\u001b[0;34m:\u001b[0m\u001b[0;34m\u001b[0m\u001b[0;34m\u001b[0m\u001b[0m\n\u001b[0;32m-> 1446\u001b[0;31m             \u001b[0;32mreturn\u001b[0m \u001b[0mfunc\u001b[0m\u001b[0;34m(\u001b[0m\u001b[0max\u001b[0m\u001b[0;34m,\u001b[0m \u001b[0;34m*\u001b[0m\u001b[0mmap\u001b[0m\u001b[0;34m(\u001b[0m\u001b[0msanitize_sequence\u001b[0m\u001b[0;34m,\u001b[0m \u001b[0margs\u001b[0m\u001b[0;34m)\u001b[0m\u001b[0;34m,\u001b[0m \u001b[0;34m**\u001b[0m\u001b[0mkwargs\u001b[0m\u001b[0;34m)\u001b[0m\u001b[0;34m\u001b[0m\u001b[0;34m\u001b[0m\u001b[0m\n\u001b[0m\u001b[1;32m   1447\u001b[0m \u001b[0;34m\u001b[0m\u001b[0m\n\u001b[1;32m   1448\u001b[0m         \u001b[0mbound\u001b[0m \u001b[0;34m=\u001b[0m \u001b[0mnew_sig\u001b[0m\u001b[0;34m.\u001b[0m\u001b[0mbind\u001b[0m\u001b[0;34m(\u001b[0m\u001b[0max\u001b[0m\u001b[0;34m,\u001b[0m \u001b[0;34m*\u001b[0m\u001b[0margs\u001b[0m\u001b[0;34m,\u001b[0m \u001b[0;34m**\u001b[0m\u001b[0mkwargs\u001b[0m\u001b[0;34m)\u001b[0m\u001b[0;34m\u001b[0m\u001b[0;34m\u001b[0m\u001b[0m\n",
      "\u001b[0;32m~/miniconda3/envs/cs224r/lib/python3.8/site-packages/matplotlib/axes/_axes.py\u001b[0m in \u001b[0;36mboxplot\u001b[0;34m(self, x, notch, sym, vert, whis, positions, widths, patch_artist, bootstrap, usermedians, conf_intervals, meanline, showmeans, showcaps, showbox, showfliers, boxprops, labels, flierprops, medianprops, meanprops, capprops, whiskerprops, manage_ticks, autorange, zorder, capwidths)\u001b[0m\n\u001b[1;32m   3906\u001b[0m             \u001b[0mbootstrap\u001b[0m \u001b[0;34m=\u001b[0m \u001b[0mmpl\u001b[0m\u001b[0;34m.\u001b[0m\u001b[0mrcParams\u001b[0m\u001b[0;34m[\u001b[0m\u001b[0;34m'boxplot.bootstrap'\u001b[0m\u001b[0;34m]\u001b[0m\u001b[0;34m\u001b[0m\u001b[0;34m\u001b[0m\u001b[0m\n\u001b[1;32m   3907\u001b[0m \u001b[0;34m\u001b[0m\u001b[0m\n\u001b[0;32m-> 3908\u001b[0;31m         bxpstats = cbook.boxplot_stats(x, whis=whis, bootstrap=bootstrap,\n\u001b[0m\u001b[1;32m   3909\u001b[0m                                        labels=labels, autorange=autorange)\n\u001b[1;32m   3910\u001b[0m         \u001b[0;32mif\u001b[0m \u001b[0mnotch\u001b[0m \u001b[0;32mis\u001b[0m \u001b[0;32mNone\u001b[0m\u001b[0;34m:\u001b[0m\u001b[0;34m\u001b[0m\u001b[0;34m\u001b[0m\u001b[0m\n",
      "\u001b[0;32m~/miniconda3/envs/cs224r/lib/python3.8/site-packages/matplotlib/cbook/__init__.py\u001b[0m in \u001b[0;36mboxplot_stats\u001b[0;34m(X, whis, bootstrap, labels, autorange)\u001b[0m\n\u001b[1;32m   1206\u001b[0m         \u001b[0mlabels\u001b[0m \u001b[0;34m=\u001b[0m \u001b[0mitertools\u001b[0m\u001b[0;34m.\u001b[0m\u001b[0mrepeat\u001b[0m\u001b[0;34m(\u001b[0m\u001b[0;32mNone\u001b[0m\u001b[0;34m)\u001b[0m\u001b[0;34m\u001b[0m\u001b[0;34m\u001b[0m\u001b[0m\n\u001b[1;32m   1207\u001b[0m     \u001b[0;32melif\u001b[0m \u001b[0mlen\u001b[0m\u001b[0;34m(\u001b[0m\u001b[0mlabels\u001b[0m\u001b[0;34m)\u001b[0m \u001b[0;34m!=\u001b[0m \u001b[0mncols\u001b[0m\u001b[0;34m:\u001b[0m\u001b[0;34m\u001b[0m\u001b[0;34m\u001b[0m\u001b[0m\n\u001b[0;32m-> 1208\u001b[0;31m         \u001b[0;32mraise\u001b[0m \u001b[0mValueError\u001b[0m\u001b[0;34m(\u001b[0m\u001b[0;34m\"Dimensions of labels and X must be compatible\"\u001b[0m\u001b[0;34m)\u001b[0m\u001b[0;34m\u001b[0m\u001b[0;34m\u001b[0m\u001b[0m\n\u001b[0m\u001b[1;32m   1209\u001b[0m \u001b[0;34m\u001b[0m\u001b[0m\n\u001b[1;32m   1210\u001b[0m     \u001b[0minput_whis\u001b[0m \u001b[0;34m=\u001b[0m \u001b[0mwhis\u001b[0m\u001b[0;34m\u001b[0m\u001b[0;34m\u001b[0m\u001b[0m\n",
      "\u001b[0;31mValueError\u001b[0m: Dimensions of labels and X must be compatible"
     ]
    },
    {
     "data": {
      "image/png": "[encoded data removed]",
      "text/plain": [
       "<Figure size 432x288 with 1 Axes>"
      ]
     },
     "metadata": {
      "needs_background": "light"
     },
     "output_type": "display_data"
    }
   ],
   "source": [
    "import matplotlib.pyplot as plt\n",
    "\n",
    "colors = ['green', 'red']\n",
    "tick_labels = ['Ours', 'Token-Mol Baseline']\n",
    "plt.title('Affinity')\n",
    "plot = plt.boxplot([data_baseline['valid_fraction'], data_ours['valid_fraction']], patch_artist=True, sym=\"\", labels=tick_labels)\n",
    "for patch, color in zip(plot['boxes'], colors):\n",
    "    patch.set_facecolor(color)\n",
    "# plt.xlabel('Model')\n",
    "plt.ylabel('Validity')\n",
    "plt.show()"
   ]
  },
  {
   "cell_type": "code",
   "execution_count": 19,
   "metadata": {},
   "outputs": [
    {
     "data": {
      "image/png": "[encoded data removed]",
      "text/plain": [
       "<Figure size 432x288 with 1 Axes>"
      ]
     },
     "metadata": {
      "needs_background": "light"
     },
     "output_type": "display_data"
    }
   ],
   "source": [
    "import numpy as np\n",
    "import pickle\n",
    "\n",
    "filenames_ours = ['/home/ubuntu/cs224r_project/metrics/20250604_074109_264.pkl', '/home/ubuntu/cs224r_project/metrics/20250604_064517_396.pkl', '/home/ubuntu/cs224r_project/metrics/20250604_083044_132.pkl']\n",
    "betas = [0.01, 0.1, 1.0]\n",
    "affinities_ours = []\n",
    "for filename in filenames_ours:\n",
    "    with open(filename, 'rb') as f:\n",
    "        data = pickle.load(f)\n",
    "    affinities_ours.append(np.mean(data['affinity']))\n",
    "\n",
    "filenames_baseline = ['/home/ubuntu/cs224r_project/metrics/20250604_074109_0.pkl', '/home/ubuntu/cs224r_project/metrics/20250604_064517_0.pkl', '/home/ubuntu/cs224r_project/metrics/20250604_083044_0.pkl']\n",
    "affinities_baseline = []\n",
    "for filename in filenames_baseline:\n",
    "    with open(filename, 'rb') as f:\n",
    "        data = pickle.load(f)\n",
    "    affinities_baseline.append(np.mean(data['affinity']))\n",
    "\n",
    "plt.title(\"Affinity\")\n",
    "plt.plot(betas, affinities_ours, label='Ours')\n",
    "plt.plot(betas, affinities_baseline, label='baseline', linestyle='--')\n",
    "plt.xlabel(r'$\\beta$')\n",
    "plt.ylabel('affinity')\n",
    "plt.xscale('log')\n",
    "plt.legend()\n",
    "plt.show()\n"
   ]
  },
  {
   "cell_type": "code",
   "execution_count": 20,
   "metadata": {},
   "outputs": [
    {
     "data": {
      "image/png": "[encoded data removed]",
      "text/plain": [
       "<Figure size 432x288 with 1 Axes>"
      ]
     },
     "metadata": {
      "needs_background": "light"
     },
     "output_type": "display_data"
    }
   ],
   "source": [
    "filenames_ours = ['/home/ubuntu/cs224r_project/metrics/20250604_074109_264.pkl', '/home/ubuntu/cs224r_project/metrics/20250604_064517_396.pkl', '/home/ubuntu/cs224r_project/metrics/20250604_083044_132.pkl']\n",
    "betas = [0.01, 0.1, 1.0]\n",
    "qed_ours = []\n",
    "for filename in filenames_ours:\n",
    "    with open(filename, 'rb') as f:\n",
    "        data = pickle.load(f)\n",
    "    qed_ours.append(np.mean(data['qed']))\n",
    "\n",
    "filenames_baseline = ['/home/ubuntu/cs224r_project/metrics/20250604_074109_0.pkl', '/home/ubuntu/cs224r_project/metrics/20250604_064517_0.pkl', '/home/ubuntu/cs224r_project/metrics/20250604_083044_0.pkl']\n",
    "qed_baseline = []\n",
    "for filename in filenames_baseline:\n",
    "    with open(filename, 'rb') as f:\n",
    "        data = pickle.load(f)\n",
    "    qed_baseline.append(np.mean(data['qed']))\n",
    "\n",
    "plt.title(\"QED\")\n",
    "plt.plot(betas, qed_ours, label='Ours')\n",
    "plt.plot(betas, qed_baseline, label='baseline', linestyle='--')\n",
    "plt.xlabel(r'$\\beta$')\n",
    "plt.ylabel('qed')\n",
    "plt.xscale('log')\n",
    "plt.legend()\n",
    "plt.show()"
   ]
  },
  {
   "cell_type": "code",
   "execution_count": 5,
   "metadata": {},
   "outputs": [
    {
     "data": {
      "image/png": "[encoded data removed]",
      "text/plain": [
       "<Figure size 432x288 with 1 Axes>"
      ]
     },
     "metadata": {
      "needs_background": "light"
     },
     "output_type": "display_data"
    }
   ],
   "source": [
    "filenames_ours = ['/home/ubuntu/cs224r_project/metrics/20250604_074109_264.pkl', '/home/ubuntu/cs224r_project/metrics/20250604_064517_396.pkl', '/home/ubuntu/cs224r_project/metrics/20250604_083044_132.pkl']\n",
    "betas = [0.01, 0.1, 1.0]\n",
    "sa_ours = []\n",
    "for filename in filenames_ours:\n",
    "    with open(filename, 'rb') as f:\n",
    "        data = pickle.load(f)\n",
    "    sa_ours.append(np.mean(data['sa']))\n",
    "\n",
    "filenames_baseline = ['/home/ubuntu/cs224r_project/metrics/20250604_074109_0.pkl', '/home/ubuntu/cs224r_project/metrics/20250604_064517_0.pkl', '/home/ubuntu/cs224r_project/metrics/20250604_083044_0.pkl']\n",
    "sa_baseline = []\n",
    "for filename in filenames_baseline:\n",
    "    with open(filename, 'rb') as f:\n",
    "        data = pickle.load(f)\n",
    "    sa_baseline.append(np.mean(data['sa']))\n",
    "\n",
    "plt.title(\"SA\")\n",
    "plt.plot(betas, sa_ours, label='Ours')\n",
    "plt.plot(betas, sa_baseline, label='baseline', linestyle='--')\n",
    "plt.xlabel(r'$\\beta$')\n",
    "plt.ylabel('SA')\n",
    "plt.xscale('log')\n",
    "plt.legend()\n",
    "plt.show()"
   ]
  },
  {
   "cell_type": "code",
   "execution_count": 22,
   "metadata": {},
   "outputs": [
    {
     "data": {
      "image/png": "[encoded data removed]",
      "text/plain": [
       "<Figure size 432x288 with 1 Axes>"
      ]
     },
     "metadata": {
      "needs_background": "light"
     },
     "output_type": "display_data"
    }
   ],
   "source": [
    "filenames_ours = ['/home/ubuntu/cs224r_project/metrics/20250604_074109_264.pkl', '/home/ubuntu/cs224r_project/metrics/20250604_064517_396.pkl', '/home/ubuntu/cs224r_project/metrics/20250604_083044_132.pkl']\n",
    "betas = [0.01, 0.1, 1.0]\n",
    "div_ours = []\n",
    "for filename in filenames_ours:\n",
    "    with open(filename, 'rb') as f:\n",
    "        data = pickle.load(f)\n",
    "    div_ours.append(data['diversity'])\n",
    "\n",
    "filenames_baseline = ['/home/ubuntu/cs224r_project/metrics/20250604_074109_0.pkl', '/home/ubuntu/cs224r_project/metrics/20250604_064517_0.pkl', '/home/ubuntu/cs224r_project/metrics/20250604_083044_0.pkl']\n",
    "div_baseline = []\n",
    "for filename in filenames_baseline:\n",
    "    with open(filename, 'rb') as f:\n",
    "        data = pickle.load(f)\n",
    "    div_baseline.append(data['diversity'])\n",
    "\n",
    "plt.title(\"Diversity\")\n",
    "plt.plot(betas, div_ours, label='Ours')\n",
    "plt.plot(betas, div_baseline, label='baseline', linestyle='--')\n",
    "plt.xlabel(r'$\\beta$')\n",
    "plt.ylabel('Diversity')\n",
    "plt.xscale('log')\n",
    "plt.legend()\n",
    "plt.show()"
   ]
  },
  {
   "cell_type": "code",
   "execution_count": 6,
   "metadata": {},
   "outputs": [
    {
     "data": {
      "image/png": "[encoded data removed]",
      "text/plain": [
       "<Figure size 432x288 with 1 Axes>"
      ]
     },
     "metadata": {
      "needs_background": "light"
     },
     "output_type": "display_data"
    }
   ],
   "source": [
    "import pickle\n",
    "import matplotlib.pyplot as plt\n",
    "import numpy as np\n",
    "\n",
    "filenames_ours = ['/home/ubuntu/cs224r_project/metrics/20250604_074109_264.pkl', '/home/ubuntu/cs224r_project/metrics/20250604_064517_396.pkl', '/home/ubuntu/cs224r_project/metrics/20250604_083044_132.pkl']\n",
    "betas = [0.01, 0.1, 1.0]\n",
    "div_ours = []\n",
    "for filename in filenames_ours:\n",
    "    with open(filename, 'rb') as f:\n",
    "        data = pickle.load(f)\n",
    "    div_ours.append(np.mean(data['lipinski']))\n",
    "\n",
    "filenames_baseline = ['/home/ubuntu/cs224r_project/metrics/20250604_074109_0.pkl', '/home/ubuntu/cs224r_project/metrics/20250604_064517_0.pkl', '/home/ubuntu/cs224r_project/metrics/20250604_083044_0.pkl']\n",
    "div_baseline = []\n",
    "for filename in filenames_baseline:\n",
    "    with open(filename, 'rb') as f:\n",
    "        data = pickle.load(f)\n",
    "    div_baseline.append(np.mean(data['lipinski']))\n",
    "\n",
    "plt.title(\"Lipinski\")\n",
    "plt.plot(betas, div_ours, label='Ours')\n",
    "plt.plot(betas, div_baseline, label='baseline', linestyle='--')\n",
    "plt.xlabel(r'$\\beta$')\n",
    "plt.ylabel('Lipinski')\n",
    "plt.xscale('log')\n",
    "plt.legend()\n",
    "plt.show()"
   ]
  },
  {
   "cell_type": "code",
   "execution_count": 10,
   "metadata": {},
   "outputs": [
    {
     "data": {
      "image/png": "[encoded data removed]",
      "text/plain": [
       "<Figure size 432x288 with 1 Axes>"
      ]
     },
     "metadata": {
      "needs_background": "light"
     },
     "output_type": "display_data"
    }
   ],
   "source": [
    "import pickle\n",
    "import matplotlib.pyplot as plt\n",
    "import numpy as np\n",
    "\n",
    "filenames_ours = ['/home/ubuntu/cs224r_project/metrics/20250604_074109_264.pkl', '/home/ubuntu/cs224r_project/metrics/20250604_064517_396.pkl', '/home/ubuntu/cs224r_project/metrics/20250604_083044_132.pkl']\n",
    "betas = [0.01, 0.1, 1.0]\n",
    "div_ours = []\n",
    "for filename in filenames_ours:\n",
    "    with open(filename, 'rb') as f:\n",
    "        data = pickle.load(f)\n",
    "    div_ours.append(np.mean(data['valid_fraction']))\n",
    "\n",
    "filenames_baseline = ['/home/ubuntu/cs224r_project/metrics/20250604_074109_0.pkl', '/home/ubuntu/cs224r_project/metrics/20250604_064517_0.pkl', '/home/ubuntu/cs224r_project/metrics/20250604_083044_0.pkl']\n",
    "div_baseline = []\n",
    "for filename in filenames_baseline:\n",
    "    with open(filename, 'rb') as f:\n",
    "        data = pickle.load(f)\n",
    "    div_baseline.append(np.mean(data['valid_fraction']))\n",
    "\n",
    "plt.title(\"Validity\")\n",
    "plt.plot(betas, div_ours, label='Ours')\n",
    "plt.plot(betas, div_baseline, label='baseline', linestyle='--')\n",
    "plt.xlabel(r'$\\beta$')\n",
    "plt.ylabel('Validity')\n",
    "plt.xscale('log')\n",
    "plt.legend()\n",
    "plt.show()"
   ]
  },
  {
   "cell_type": "code",
   "execution_count": 9,
   "metadata": {},
   "outputs": [
    {
     "data": {
      "text/plain": [
       "dict_keys(['run_name', 'beta', 'step', 'val_loss', 'examples_seen', 'valid_fraction', 'diversity', 'affinity', 'qed', 'sa', 'lipinski'])"
      ]
     },
     "execution_count": 9,
     "metadata": {},
     "output_type": "execute_result"
    }
   ],
   "source": [
    "data.keys()"
   ]
  },
  {
   "cell_type": "code",
   "execution_count": 4,
   "metadata": {},
   "outputs": [
    {
     "data": {
      "text/plain": [
       "[[3,\n",
       "  5,\n",
       "  5,\n",
       "  4,\n",
       "  5,\n",
       "  5,\n",
       "  5,\n",
       "  5,\n",
       "  5,\n",
       "  5,\n",
       "  5,\n",
       "  3,\n",
       "  5,\n",
       "  5,\n",
       "  4,\n",
       "  5,\n",
       "  5,\n",
       "  5,\n",
       "  2,\n",
       "  4,\n",
       "  5,\n",
       "  5,\n",
       "  4,\n",
       "  5,\n",
       "  3,\n",
       "  5,\n",
       "  3,\n",
       "  3,\n",
       "  5,\n",
       "  5,\n",
       "  4,\n",
       "  4,\n",
       "  4,\n",
       "  3,\n",
       "  5,\n",
       "  5,\n",
       "  4,\n",
       "  5,\n",
       "  5,\n",
       "  5],\n",
       " [3,\n",
       "  5,\n",
       "  5,\n",
       "  4,\n",
       "  5,\n",
       "  5,\n",
       "  5,\n",
       "  5,\n",
       "  5,\n",
       "  5,\n",
       "  5,\n",
       "  3,\n",
       "  5,\n",
       "  5,\n",
       "  4,\n",
       "  5,\n",
       "  5,\n",
       "  5,\n",
       "  2,\n",
       "  4,\n",
       "  5,\n",
       "  5,\n",
       "  4,\n",
       "  5,\n",
       "  3,\n",
       "  5,\n",
       "  3,\n",
       "  3,\n",
       "  5,\n",
       "  5,\n",
       "  4,\n",
       "  4,\n",
       "  4,\n",
       "  3,\n",
       "  5,\n",
       "  5,\n",
       "  4,\n",
       "  5,\n",
       "  5,\n",
       "  5],\n",
       " [3,\n",
       "  5,\n",
       "  5,\n",
       "  4,\n",
       "  5,\n",
       "  5,\n",
       "  5,\n",
       "  5,\n",
       "  5,\n",
       "  5,\n",
       "  5,\n",
       "  3,\n",
       "  5,\n",
       "  5,\n",
       "  4,\n",
       "  5,\n",
       "  5,\n",
       "  5,\n",
       "  2,\n",
       "  4,\n",
       "  5,\n",
       "  5,\n",
       "  4,\n",
       "  5,\n",
       "  3,\n",
       "  5,\n",
       "  3,\n",
       "  3,\n",
       "  5,\n",
       "  5,\n",
       "  4,\n",
       "  4,\n",
       "  4,\n",
       "  3,\n",
       "  5,\n",
       "  5,\n",
       "  4,\n",
       "  5,\n",
       "  5,\n",
       "  5]]"
      ]
     },
     "execution_count": 4,
     "metadata": {},
     "output_type": "execute_result"
    }
   ],
   "source": [
    "div_baseline"
   ]
  },
  {
   "cell_type": "code",
   "execution_count": 27,
   "metadata": {},
   "outputs": [
    {
     "data": {
      "image/png": "[encoded data removed]",
      "text/plain": [
       "<Figure size 432x288 with 1 Axes>"
      ]
     },
     "metadata": {
      "needs_background": "light"
     },
     "output_type": "display_data"
    }
   ],
   "source": [
    "plt.title('QED')\n",
    "plot = plt.boxplot([data_baseline['qed'], data_ours['qed']], patch_artist=True, sym=\"\", labels=tick_labels)\n",
    "for patch, color in zip(plot['boxes'], colors):\n",
    "    patch.set_facecolor(color)\n",
    "# plt.xlabel('Model')\n",
    "plt.ylabel('QED')\n",
    "plt.show()"
   ]
  },
  {
   "cell_type": "code",
   "execution_count": 28,
   "metadata": {},
   "outputs": [
    {
     "data": {
      "image/png": "[encoded data removed]",
      "text/plain": [
       "<Figure size 432x288 with 1 Axes>"
      ]
     },
     "metadata": {
      "needs_background": "light"
     },
     "output_type": "display_data"
    }
   ],
   "source": [
    "plt.title('SA')\n",
    "plot = plt.boxplot([data_baseline['sa'], data_ours['sa']], patch_artist=True, sym=\"\", labels=tick_labels)\n",
    "for patch, color in zip(plot['boxes'], colors):\n",
    "    patch.set_facecolor(color)\n",
    "# plt.xlabel('Model')\n",
    "plt.ylabel('SA')\n",
    "plt.show()"
   ]
  },
  {
   "cell_type": "code",
   "execution_count": 29,
   "metadata": {},
   "outputs": [
    {
     "data": {
      "image/png": "[encoded data removed]",
      "text/plain": [
       "<Figure size 432x288 with 1 Axes>"
      ]
     },
     "metadata": {
      "needs_background": "light"
     },
     "output_type": "display_data"
    }
   ],
   "source": [
    "plt.title('Lipinski')\n",
    "plot = plt.boxplot([data_baseline['lipinski'], data_ours['lipinski']], patch_artist=True, sym=\"\", labels=tick_labels)\n",
    "for patch, color in zip(plot['boxes'], colors):\n",
    "    patch.set_facecolor(color)\n",
    "# plt.xlabel('Model')\n",
    "plt.ylabel('Lipinski score')\n",
    "plt.show()"
   ]
  },
  {
   "cell_type": "code",
   "execution_count": 13,
   "metadata": {},
   "outputs": [
    {
     "ename": "NameError",
     "evalue": "name 'tick_labels' is not defined",
     "output_type": "error",
     "traceback": [
      "\u001b[0;31m---------------------------------------------------------------------------\u001b[0m",
      "\u001b[0;31mNameError\u001b[0m                                 Traceback (most recent call last)",
      "\u001b[0;32m<ipython-input-13-a4e437b0a853>\u001b[0m in \u001b[0;36m<cell line: 2>\u001b[0;34m()\u001b[0m\n\u001b[1;32m      1\u001b[0m \u001b[0mplt\u001b[0m\u001b[0;34m.\u001b[0m\u001b[0mtitle\u001b[0m\u001b[0;34m(\u001b[0m\u001b[0;34m'Validity'\u001b[0m\u001b[0;34m)\u001b[0m\u001b[0;34m\u001b[0m\u001b[0;34m\u001b[0m\u001b[0m\n\u001b[0;32m----> 2\u001b[0;31m \u001b[0mplot\u001b[0m \u001b[0;34m=\u001b[0m \u001b[0mplt\u001b[0m\u001b[0;34m.\u001b[0m\u001b[0mboxplot\u001b[0m\u001b[0;34m(\u001b[0m\u001b[0;34m[\u001b[0m\u001b[0mdata_baseline\u001b[0m\u001b[0;34m[\u001b[0m\u001b[0;34m'valid_fraction'\u001b[0m\u001b[0;34m]\u001b[0m\u001b[0;34m,\u001b[0m \u001b[0mdata_ours\u001b[0m\u001b[0;34m[\u001b[0m\u001b[0;34m'valid_fraction'\u001b[0m\u001b[0;34m]\u001b[0m\u001b[0;34m]\u001b[0m\u001b[0;34m,\u001b[0m \u001b[0mpatch_artist\u001b[0m\u001b[0;34m=\u001b[0m\u001b[0;32mTrue\u001b[0m\u001b[0;34m,\u001b[0m \u001b[0msym\u001b[0m\u001b[0;34m=\u001b[0m\u001b[0;34m\"\"\u001b[0m\u001b[0;34m,\u001b[0m \u001b[0mlabels\u001b[0m\u001b[0;34m=\u001b[0m\u001b[0mtick_labels\u001b[0m\u001b[0;34m)\u001b[0m\u001b[0;34m\u001b[0m\u001b[0;34m\u001b[0m\u001b[0m\n\u001b[0m\u001b[1;32m      3\u001b[0m \u001b[0;32mfor\u001b[0m \u001b[0mpatch\u001b[0m\u001b[0;34m,\u001b[0m \u001b[0mcolor\u001b[0m \u001b[0;32min\u001b[0m \u001b[0mzip\u001b[0m\u001b[0;34m(\u001b[0m\u001b[0mplot\u001b[0m\u001b[0;34m[\u001b[0m\u001b[0;34m'boxes'\u001b[0m\u001b[0;34m]\u001b[0m\u001b[0;34m,\u001b[0m \u001b[0mcolors\u001b[0m\u001b[0;34m)\u001b[0m\u001b[0;34m:\u001b[0m\u001b[0;34m\u001b[0m\u001b[0;34m\u001b[0m\u001b[0m\n\u001b[1;32m      4\u001b[0m     \u001b[0mpatch\u001b[0m\u001b[0;34m.\u001b[0m\u001b[0mset_facecolor\u001b[0m\u001b[0;34m(\u001b[0m\u001b[0mcolor\u001b[0m\u001b[0;34m)\u001b[0m\u001b[0;34m\u001b[0m\u001b[0;34m\u001b[0m\u001b[0m\n\u001b[1;32m      5\u001b[0m \u001b[0;31m# plt.xlabel('Model')\u001b[0m\u001b[0;34m\u001b[0m\u001b[0;34m\u001b[0m\u001b[0;34m\u001b[0m\u001b[0m\n",
      "\u001b[0;31mNameError\u001b[0m: name 'tick_labels' is not defined"
     ]
    },
    {
     "data": {
      "image/png": "[encoded data removed]",
      "text/plain": [
       "<Figure size 432x288 with 1 Axes>"
      ]
     },
     "metadata": {
      "needs_background": "light"
     },
     "output_type": "display_data"
    }
   ],
   "source": [
    "plt.title('Validity')\n",
    "plot = plt.boxplot([data_baseline['valid_fraction'], data_ours['valid_fraction']], patch_artist=True, sym=\"\", labels=tick_labels)\n",
    "for patch, color in zip(plot['boxes'], colors):\n",
    "    patch.set_facecolor(color)\n",
    "# plt.xlabel('Model')\n",
    "plt.ylabel('Validity')\n",
    "plt.show()"
   ]
  },
  {
   "cell_type": "code",
   "execution_count": 5,
   "metadata": {},
   "outputs": [
    {
     "data": {
      "text/plain": [
       "True"
      ]
     },
     "execution_count": 5,
     "metadata": {},
     "output_type": "execute_result"
    }
   ],
   "source": [
    "import os\n",
    "'3HAO_CUPMC_1_172_0' in os.listdir('/home/ubuntu/cs224r_project/AliDiff/data/CrossDocked2020')"
   ]
  },
  {
   "cell_type": "code",
   "execution_count": 3,
   "metadata": {},
   "outputs": [],
   "source": [
    "from gen import predict"
   ]
  },
  {
   "cell_type": "code",
   "execution_count": null,
   "metadata": {},
   "outputs": [],
   "source": [
    "with open('protein_filename.pkl', 'rb') as f:\n",
    "    "
   ]
  },
  {
   "cell_type": "code",
   "execution_count": 13,
   "metadata": {},
   "outputs": [
    {
     "ename": "ModuleNotFoundError",
     "evalue": "No module named 'datasets.merge_dataset'",
     "output_type": "error",
     "traceback": [
      "\u001b[0;31m---------------------------------------------------------------------------\u001b[0m",
      "\u001b[0;31mModuleNotFoundError\u001b[0m                       Traceback (most recent call last)",
      "\u001b[0;32m<ipython-input-13-9c866861caa8>\u001b[0m in \u001b[0;36m<cell line: 6>\u001b[0;34m()\u001b[0m\n\u001b[1;32m      5\u001b[0m \u001b[0;32mimport\u001b[0m \u001b[0mdatasets\u001b[0m\u001b[0;34m\u001b[0m\u001b[0;34m\u001b[0m\u001b[0m\n\u001b[1;32m      6\u001b[0m \u001b[0;32mwith\u001b[0m \u001b[0mopen\u001b[0m\u001b[0;34m(\u001b[0m\u001b[0;34m'/home/ubuntu/cs224r_project/AliDiff/data/dpo_train_set.pkl'\u001b[0m\u001b[0;34m,\u001b[0m \u001b[0;34m'rb'\u001b[0m\u001b[0;34m)\u001b[0m \u001b[0;32mas\u001b[0m \u001b[0mf\u001b[0m\u001b[0;34m:\u001b[0m\u001b[0;34m\u001b[0m\u001b[0;34m\u001b[0m\u001b[0m\n\u001b[0;32m----> 7\u001b[0;31m     \u001b[0mdpo_data\u001b[0m \u001b[0;34m=\u001b[0m \u001b[0mpickle\u001b[0m\u001b[0;34m.\u001b[0m\u001b[0mload\u001b[0m\u001b[0;34m(\u001b[0m\u001b[0mf\u001b[0m\u001b[0;34m)\u001b[0m\u001b[0;34m\u001b[0m\u001b[0;34m\u001b[0m\u001b[0m\n\u001b[0m",
      "\u001b[0;31mModuleNotFoundError\u001b[0m: No module named 'datasets.merge_dataset'"
     ]
    }
   ],
   "source": [
    "import pickle\n",
    "import sys\n",
    "import os\n",
    "sys.path.append('/home/ubuntu/cs224r_project/AliDiff/')\n",
    "import datasets\n",
    "with open('/home/ubuntu/cs224r_project/AliDiff/data/dpo_train_set.pkl', 'rb') as f:\n",
    "    dpo_data = pickle.load(f)"
   ]
  },
  {
   "cell_type": "code",
   "execution_count": 17,
   "metadata": {},
   "outputs": [],
   "source": [
    "import pickle\n",
    "import sys\n",
    "sys.path.append('/home/ubuntu/cs224r_project/AliDiff/')\n",
    "import datasets\n",
    "with open('/home/ubuntu/cs224r_project/AliDiff/win_data.pkl', 'rb') as f:\n",
    "    p = pickle.load(f)"
   ]
  },
  {
   "cell_type": "code",
   "execution_count": 23,
   "metadata": {},
   "outputs": [
    {
     "data": {
      "text/plain": [
       "'C # C c 1 c c c c ( C n 2 c c ( C C ( = O ) O ) c 3 c c c c c 3 2 ) c 1 GEO 0.97 2.30 -2.21 0.02 -1.02 -1.48'"
      ]
     },
     "execution_count": 23,
     "metadata": {},
     "output_type": "execute_result"
    }
   ],
   "source": [
    "p[30]"
   ]
  },
  {
   "cell_type": "code",
   "execution_count": 10,
   "metadata": {},
   "outputs": [
    {
     "name": "stdout",
     "output_type": "stream",
     "text": [
      "Atom 0: (29.73, 127.00, 17.00)\n",
      "Atom 1: (29.13, 127.54, 18.14)\n",
      "Atom 2: (27.89, 126.85, 18.71)\n",
      "Atom 3: (29.68, 128.69, 18.72)\n",
      "Atom 4: (29.11, 129.25, 19.84)\n",
      "Atom 5: (30.84, 129.27, 18.12)\n",
      "Atom 6: (31.45, 130.54, 18.77)\n",
      "Atom 7: (31.42, 128.67, 16.95)\n",
      "Atom 8: (30.84, 127.54, 16.42)\n",
      "Atom 9: (28.35, 128.85, 20.22)\n",
      "Atom 10: (32.64, 129.18, 16.23)\n",
      "Atom 11: (33.88, 129.18, 16.87)\n",
      "Atom 12: (34.89, 130.37, 16.67)\n",
      "Atom 13: (35.78, 130.36, 17.84)\n",
      "Atom 14: (33.92, 131.61, 16.60)\n",
      "Atom 15: (35.49, 130.18, 15.36)\n",
      "Atom 16: (33.50, 131.75, 17.46)\n",
      "Atom 17: (36.09, 129.42, 15.38)\n"
     ]
    }
   ],
   "source": [
    "from rdkit import Chem\n",
    "\n",
    "# Load molecule from SDF file\n",
    "sdf_file = \"/home/ubuntu/cs224r_project/AliDiff/data/crossdocked_v1.3_rmsd1.0_pocket10/1A1D_CYBSA_1_341_0/1j0c_A_rec_1j0c_plp_lig_tt_docked_1.sdf\"\n",
    "supplier = Chem.SDMolSupplier(sdf_file, removeHs=False)\n",
    "\n",
    "for mol in supplier:\n",
    "    if mol is None:\n",
    "        raise Exception()\n",
    "        continue\n",
    "    if mol.GetNumConformers() == 0:\n",
    "        raise Exception()\n",
    "        print(\"No conformers found in this molecule.\")\n",
    "        continue\n",
    "\n",
    "    # Get the first conformer\n",
    "    conformer = mol.GetConformer()\n",
    "\n",
    "    # Print coordinates of first few atoms\n",
    "    for atom_idx in range(mol.GetNumAtoms()):\n",
    "        pos = conformer.GetAtomPosition(atom_idx)\n",
    "        print(f\"Atom {atom_idx}: ({pos.x:.2f}, {pos.y:.2f}, {pos.z:.2f})\")"
   ]
  },
  {
   "cell_type": "code",
   "execution_count": 12,
   "metadata": {},
   "outputs": [
    {
     "ename": "AttributeError",
     "evalue": "'Mol' object has no attribute 'smiles'",
     "output_type": "error",
     "traceback": [
      "\u001b[0;31m---------------------------------------------------------------------------\u001b[0m",
      "\u001b[0;31mAttributeError\u001b[0m                            Traceback (most recent call last)",
      "\u001b[0;32m<ipython-input-12-aaa9e6c65aec>\u001b[0m in \u001b[0;36m<cell line: 1>\u001b[0;34m()\u001b[0m\n\u001b[0;32m----> 1\u001b[0;31m \u001b[0mmol\u001b[0m\u001b[0;34m.\u001b[0m\u001b[0msmiles\u001b[0m\u001b[0;34m\u001b[0m\u001b[0;34m\u001b[0m\u001b[0m\n\u001b[0m",
      "\u001b[0;31mAttributeError\u001b[0m: 'Mol' object has no attribute 'smiles'"
     ]
    }
   ],
   "source": [
    "Chem."
   ]
  },
  {
   "cell_type": "code",
   "execution_count": 16,
   "metadata": {},
   "outputs": [],
   "source": [
    "from datasets import load_dataset, Dataset\n",
    "from trl import DPOConfig, DPOTrainer\n",
    "from transformers import AutoModelForCausalLM, AutoTokenizer\n",
    "\n",
    "model = AutoModelForCausalLM.from_pretrained(\"Qwen/Qwen2-0.5B-Instruct\")\n",
    "tokenizer = AutoTokenizer.from_pretrained(\"Qwen/Qwen2-0.5B-Instruct\")\n",
    "train_dataset = load_dataset(\"trl-lib/ultrafeedback_binarized\", split=\"train\")\n"
   ]
  },
  {
   "cell_type": "code",
   "execution_count": 17,
   "metadata": {},
   "outputs": [],
   "source": [
    "train_set_updated = []\n",
    "for el in train_dataset:\n",
    "    train_set_updated.append({})\n",
    "    train_set_updated[-1] = {\n",
    "        'prompt': el['chosen'][0]['content'],\n",
    "        'chosen': el['chosen'][1]['content'],\n",
    "        'rejected': el['rejected'][1]['content']\n",
    "    }\n",
    "train_set_updated = Dataset.from_list(train_set_updated)"
   ]
  },
  {
   "cell_type": "code",
   "execution_count": 10,
   "metadata": {},
   "outputs": [
    {
     "data": {
      "text/plain": [
       "{'chosen': [{'content': 'Use the pygame library to write a version of the classic game Snake, with a unique twist',\n",
       "   'role': 'user'},\n",
       "  {'content': \"Sure, I'd be happy to help you write a version of the classic game Snake using the pygame library! Here's a basic outline of how we can approach this:\\n\\n1. First, we'll need to set up the game display and create a game object that we can use to handle the game's state.\\n2. Next, we'll create the game's grid, which will be used to represent the game board. We'll need to define the size of the grid and the spaces within it.\\n3. After that, we'll create the snake object, which will be used to represent the player's movement. We'll need to define the size of the snake and the speed at which it moves.\\n4. We'll also need to create a food object, which will be used to represent the food that the player must collect to score points. We'll need to define the location of the food and the speed at which it moves.\\n5. Once we have these objects set up, we can start handling the game's logic. We'll need to define the rules for the player's movements, such as how the player can move the snake and how the snake will grow as the player collects more food.\\n6. We'll also need to add collisions detection to the game, so that the snake and the food can collide with each other.\\n7. Finally, we'll need to add a user interface to the game, such as a menu and a scoreboard.\\n\\nNow, as for the unique twist, we could add a few features to make the game more interesting. For example, we could add power-ups that give the player special abilities, such as the ability to grow the snake faster or to change its direction. We could also add obstacles, such as walls or pits, that the player must avoid.\\n\\nHere's some sample code to get us started:\\n```\\nimport pygame\\n\\n# Initialize pygame\\npygame.init()\\n\\n# Set up the game display\\nwidth = 800\\nheight = 600\\nscreen = pygame.display.set_mode((width, height))\\n\\n# Define the colors\\nWHITE = (255, 255, 255)\\nBLACK = (0, 0, 0)\\nGREEN = (0, 255, 0)\\n\\n# Define the game objects\\nsnake = pygame.Rect(50, 50, 10, 10)\\nfood = pygame.Rect(100, 100, 10, 10)\\n\\n# Define the game logic\\ndef update_snake():\\n    # Get the mouse position\\n    mouse_pos = pygame.mouse.get_pos()\\n\\n    # Move the snake based on the mouse position\\n    if mouse_pos[0] > snake.x:\\n        snake.x += 10\\n    elif mouse_pos[0] < snake.x:\\n        snake.x -= 10\\n    elif mouse_pos[1] > snake.y:\\n        snake.y += 10\\n    elif mouse_pos[1] < snake.y:\\n        snake.y -= 10\\n\\n    # Update the snake's size\\n    if snake.x == food.x and snake.y == food.y:\\n        snake.width += 10\\n        snake.height += 10\\n\\n# Define the game loop\\ndef game_loop():\\n    # Clear the screen\\n    screen.fill(BLACK)\\n\\n    # Update the game objects\\n    update_snake()\\n\\n    # Draw the game objects\\n    screen.fill(WHITE)\\n    screen.draw.rect(snake, GREEN)\\n    screen.draw.rect(food, BLACK)\\n\\n    # Update the display\\n    pygame.display.flip()\\n\\n# Start the game loop\\ngame_loop()\\n\\n# Run the game\\nwhile True:\\n    for event in pygame.event.get():\\n        if event.type == pygame.QUIT:\\n            pygame.quit()\\n            break\\n\\n    pygame.time.Clock().tick(60)\\n```\\nThis code sets up a basic game display, defines the snake and food objects, and updates the game state based on the player's movements. We've also added a simple user interface and some basic collision detection.\\n\\nAs for the unique twist, we could add a few features to make the game\",\n",
       "   'role': 'assistant'}],\n",
       " 'rejected': [{'content': 'Use the pygame library to write a version of the classic game Snake, with a unique twist',\n",
       "   'role': 'user'},\n",
       "  {'content': 'Sure, here\\'s an example of how to write a version of Snake game with a unique twist using the Pygame library:\\n```python\\nimport pygame\\n\\nclass SnakeGame:\\n    def __init__(self, game_width, game_height):\\n        pygame.init()\\n        screen = pygame.display.set_mode((game_width, game_height))\\n        pygame.display.set_caption(\"Snake Game\")\\n        self.speed = 5  # Speed of the snake\\n        self.food_speed = 1  # Speed of the food\\n        self.direction = 0  # Initial direction of the snake\\n        self.snakelen = 0  # Length of the snake\\n        self.food = pygame.image.load(\"snake_food.png\")\\n        self.head = pygame.image.load(\"snake_head.png\")\\n        self.tail = pygame.image.load(\"snake_tail.png\")\\n        self.game Quint()\\n    def Quint(self):\\n        for i in range(50):\\n            pygame.draw.line(screen, (180, 100, 220), (0, 0, 200), 2)\\n            pygame.draw.line(screen, (180, 100, 220), (50, 0, 200), 2)\\n            pygame.draw.line(screen, (180, 100, 220), (50, 50, 200), 2)\\n            pygame.draw.line(screen, (180, 100, 220), (50, 50, 300), 2)\\n            pygame.draw.line(screen, (180, 100, 220), (50, 80, 200), 2)\\n            pygame.draw.line(screen, (180, 100, 220), (50, 80, 300), 2)\\n            pygame.draw.line(screen, (180, 100, 220), (0, 50, 200), 2)\\n            pygame.draw.line(screen, (180, 100, 220), (0, 50, 300), 2)\\n            pygame.draw.line(screen, (180, 100, 220), (0, 80, 200), 2)\\n            pygame.draw.line(screen, (180, 100, 220), (0, 80, 300), 2)\\n            pygame.display.flip()\\n        self.game.run()\\n    def run(self):\\n        while True:\\n            for event in pygame.event. pygame.KEYDOWN:\\n                if event.key == pygame.K_LEFT:\\n                    self.direction = -1\\n                if event.key == pygame.K_RIGHT:\\n                    self.direction = 1\\n            self.snakelen += 1\\n            if self.snakelen == 0:\\n                self.snakelen = 10\\n            if self.snakelen > 20:\\n                self.snakelen = 20\\n            self.gameQuint()\\n            self.foodCrossing()\\n            self.headRun()\\n            pygame.display.update()\\ngame = SnakeGame(800, 600)\\ngame.run()\\n```\\nIn this game, the snake moves with a constant speed, but the direction of the snake can be controlled by the user using the left and right arrow keys. The snake grows in length every 10 segments, and when it reaches a certain length, it resets to 10 segments. The food moves fast and randomly crosses the screen, and the snake can eat it by colliding with it. The snake\\'s head and tail move independently of each other. The game ends when the snake dies or reaches the end of the screen.',\n",
       "   'role': 'assistant'}],\n",
       " 'score_chosen': 6.0,\n",
       " 'score_rejected': 4.0}"
      ]
     },
     "execution_count": 10,
     "metadata": {},
     "output_type": "execute_result"
    }
   ],
   "source": [
    "train_dataset[0]"
   ]
  },
  {
   "cell_type": "code",
   "execution_count": 18,
   "metadata": {},
   "outputs": [
    {
     "name": "stderr",
     "output_type": "stream",
     "text": [
      "Trainer.tokenizer is now deprecated. You should use `Trainer.processing_class = processing_class` instead.\n",
      "/home/ubuntu/miniconda3/envs/cs224r/lib/python3.8/site-packages/trl/trainer/dpo_trainer.py:660: UserWarning: `max_length` is not set in the DPOConfig's init it will default to `512` by default, but you should do it yourself in the future.\n",
      "  warnings.warn(\n",
      "/home/ubuntu/miniconda3/envs/cs224r/lib/python3.8/site-packages/trl/trainer/dpo_trainer.py:673: UserWarning: `max_prompt_length` is not set in the DPOConfig's init it will default to `128` by default, but you should do it yourself in the future.\n",
      "  warnings.warn(\n",
      "Trainer.tokenizer is now deprecated. You should use Trainer.processing_class instead.\n",
      "/home/ubuntu/miniconda3/envs/cs224r/lib/python3.8/site-packages/trl/trainer/dpo_trainer.py:708: UserWarning: When using DPODataCollatorWithPadding, you should set `remove_unused_columns=False` in your TrainingArguments we have set it for you, but you should do it yourself in the future.\n",
      "  warnings.warn(\n",
      "Trainer.tokenizer is now deprecated. You should use Trainer.processing_class instead.\n",
      "Trainer.tokenizer is now deprecated. You should use Trainer.processing_class instead.\n",
      "Tokenizing train dataset:   5%|▍         | 3000/62135 [00:15<05:09, 190.80 examples/s]"
     ]
    },
    {
     "ename": "",
     "evalue": "",
     "output_type": "error",
     "traceback": [
      "\u001b[1;31mCanceled future for execute_request message before replies were done"
     ]
    },
    {
     "ename": "",
     "evalue": "",
     "output_type": "error",
     "traceback": [
      "\u001b[1;31mThe Kernel crashed while executing code in the the current cell or a previous cell. Please review the code in the cell(s) to identify a possible cause of the failure. Click <a href='https://aka.ms/vscodeJupyterKernelCrash'>here</a> for more info. View Jupyter <a href='command:jupyter.viewOutput'>log</a> for further details."
     ]
    }
   ],
   "source": [
    "training_args = DPOConfig(output_dir=\"Qwen2-0.5B-DPO\", logging_steps=10)\n",
    "trainer = DPOTrainer(model=model, args=training_args, tokenizer=tokenizer, train_dataset=train_set_updated)\n",
    "trainer.train()"
   ]
  }
 ],
 "metadata": {
  "kernelspec": {
   "display_name": "cs224r",
   "language": "python",
   "name": "python3"
  },
  "language_info": {
   "codemirror_mode": {
    "name": "ipython",
    "version": 3
   },
   "file_extension": ".py",
   "mimetype": "text/x-python",
   "name": "python",
   "nbconvert_exporter": "python",
   "pygments_lexer": "ipython3",
   "version": "3.8.20"
  },
  "orig_nbformat": 4
 },
 "nbformat": 4,
 "nbformat_minor": 2
}
